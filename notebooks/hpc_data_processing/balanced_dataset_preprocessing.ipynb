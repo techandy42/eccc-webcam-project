{
 "cells": [
  {
   "cell_type": "code",
   "execution_count": 2,
   "id": "1b80601c-cf31-4fc3-9964-fbb011090b5e",
   "metadata": {
    "execution": {
     "iopub.execute_input": "2024-03-18T16:04:42.086366Z",
     "iopub.status.busy": "2024-03-18T16:04:42.086114Z",
     "iopub.status.idle": "2024-03-18T16:04:42.088879Z",
     "shell.execute_reply": "2024-03-18T16:04:42.088494Z",
     "shell.execute_reply.started": "2024-03-18T16:04:42.086345Z"
    },
    "tags": []
   },
   "outputs": [],
   "source": [
    "provincial_code = ['AB', 'BC', 'MB', 'NF', 'NS', 'NT', 'NU', 'ON', 'QC', 'YT']\n",
    "provincial_report = [code + '_ASOS_Matched.csv' for code in provincial_code]"
   ]
  },
  {
   "cell_type": "code",
   "execution_count": 3,
   "id": "cf4141e3-1ae3-4697-a571-44a992a80099",
   "metadata": {
    "execution": {
     "iopub.execute_input": "2024-03-18T16:04:44.753181Z",
     "iopub.status.busy": "2024-03-18T16:04:44.752884Z",
     "iopub.status.idle": "2024-03-18T16:04:46.378059Z",
     "shell.execute_reply": "2024-03-18T16:04:46.377476Z",
     "shell.execute_reply.started": "2024-03-18T16:04:44.753161Z"
    },
    "tags": []
   },
   "outputs": [
    {
     "name": "stderr",
     "output_type": "stream",
     "text": [
      "/var/tmp/pbs.249890566.ppp5pbs-001-ib/ipykernel_2023584/3544983199.py:7: DtypeWarning: Columns (2) have mixed types. Specify dtype option on import or set low_memory=False.\n",
      "  reports[code] = pd.read_csv(report)\n",
      "/var/tmp/pbs.249890566.ppp5pbs-001-ib/ipykernel_2023584/3544983199.py:7: DtypeWarning: Columns (2,3,4,7) have mixed types. Specify dtype option on import or set low_memory=False.\n",
      "  reports[code] = pd.read_csv(report)\n",
      "/var/tmp/pbs.249890566.ppp5pbs-001-ib/ipykernel_2023584/3544983199.py:7: DtypeWarning: Columns (6) have mixed types. Specify dtype option on import or set low_memory=False.\n",
      "  reports[code] = pd.read_csv(report)\n",
      "/var/tmp/pbs.249890566.ppp5pbs-001-ib/ipykernel_2023584/3544983199.py:7: DtypeWarning: Columns (2,9) have mixed types. Specify dtype option on import or set low_memory=False.\n",
      "  reports[code] = pd.read_csv(report)\n"
     ]
    }
   ],
   "source": [
    "import pandas as pd\n",
    "import os\n",
    "\n",
    "reports = {}\n",
    "\n",
    "for report, code in zip(provincial_report, provincial_code):\n",
    "    reports[code] = pd.read_csv(report)"
   ]
  },
  {
   "cell_type": "code",
   "execution_count": 4,
   "id": "ca3837e0-be09-4397-8db6-c598fdb43e58",
   "metadata": {
    "execution": {
     "iopub.execute_input": "2024-03-18T16:04:47.738849Z",
     "iopub.status.busy": "2024-03-18T16:04:47.738536Z",
     "iopub.status.idle": "2024-03-18T16:04:47.801818Z",
     "shell.execute_reply": "2024-03-18T16:04:47.801337Z",
     "shell.execute_reply.started": "2024-03-18T16:04:47.738826Z"
    },
    "tags": []
   },
   "outputs": [],
   "source": [
    "report_comb = pd.concat([reports[code] for code in reports.keys()], keys=list(reports.keys()))"
   ]
  },
  {
   "cell_type": "code",
   "execution_count": 5,
   "id": "8ff801ac-1cfb-4f40-9e5a-eecf55b764d8",
   "metadata": {
    "execution": {
     "iopub.execute_input": "2024-03-18T16:04:49.714962Z",
     "iopub.status.busy": "2024-03-18T16:04:49.714701Z",
     "iopub.status.idle": "2024-03-18T16:04:49.734307Z",
     "shell.execute_reply": "2024-03-18T16:04:49.733908Z",
     "shell.execute_reply.started": "2024-03-18T16:04:49.714942Z"
    },
    "tags": []
   },
   "outputs": [
    {
     "data": {
      "text/html": [
       "<div>\n",
       "<style scoped>\n",
       "    .dataframe tbody tr th:only-of-type {\n",
       "        vertical-align: middle;\n",
       "    }\n",
       "\n",
       "    .dataframe tbody tr th {\n",
       "        vertical-align: top;\n",
       "    }\n",
       "\n",
       "    .dataframe thead th {\n",
       "        text-align: right;\n",
       "    }\n",
       "</style>\n",
       "<table border=\"1\" class=\"dataframe\">\n",
       "  <thead>\n",
       "    <tr style=\"text-align: right;\">\n",
       "      <th></th>\n",
       "      <th></th>\n",
       "      <th>station</th>\n",
       "      <th>valid</th>\n",
       "      <th>tmpc</th>\n",
       "      <th>dwpc</th>\n",
       "      <th>relh</th>\n",
       "      <th>drct</th>\n",
       "      <th>sknt</th>\n",
       "      <th>mslp</th>\n",
       "      <th>p01m</th>\n",
       "      <th>vsby</th>\n",
       "      <th>...</th>\n",
       "      <th>Hail</th>\n",
       "      <th>GS</th>\n",
       "      <th>IP</th>\n",
       "      <th>DZ</th>\n",
       "      <th>FZRA/FZDZ</th>\n",
       "      <th>precipitation_category</th>\n",
       "      <th>valid_dt</th>\n",
       "      <th>matched_image_file</th>\n",
       "      <th>matched_image_folder</th>\n",
       "      <th>p01i</th>\n",
       "    </tr>\n",
       "  </thead>\n",
       "  <tbody>\n",
       "    <tr>\n",
       "      <th rowspan=\"5\" valign=\"top\">AB</th>\n",
       "      <th>0</th>\n",
       "      <td>CYQF</td>\n",
       "      <td>2022-12-16 00:00</td>\n",
       "      <td>-8.0</td>\n",
       "      <td>-11.00</td>\n",
       "      <td>79.00</td>\n",
       "      <td>240.00</td>\n",
       "      <td>5.00</td>\n",
       "      <td>1032.60</td>\n",
       "      <td>0.0</td>\n",
       "      <td>9.00</td>\n",
       "      <td>...</td>\n",
       "      <td>False</td>\n",
       "      <td>False</td>\n",
       "      <td>False</td>\n",
       "      <td>False</td>\n",
       "      <td>False</td>\n",
       "      <td>MISSING</td>\n",
       "      <td>2022-12-16 00:00:00</td>\n",
       "      <td>NaN</td>\n",
       "      <td>NaN</td>\n",
       "      <td>NaN</td>\n",
       "    </tr>\n",
       "    <tr>\n",
       "      <th>1</th>\n",
       "      <td>CYQL</td>\n",
       "      <td>2022-12-16 00:00</td>\n",
       "      <td>-6.0</td>\n",
       "      <td>-9.00</td>\n",
       "      <td>79.31</td>\n",
       "      <td>250.00</td>\n",
       "      <td>4.00</td>\n",
       "      <td>1034.00</td>\n",
       "      <td>0.0</td>\n",
       "      <td>25.00</td>\n",
       "      <td>...</td>\n",
       "      <td>False</td>\n",
       "      <td>False</td>\n",
       "      <td>False</td>\n",
       "      <td>False</td>\n",
       "      <td>False</td>\n",
       "      <td>MISSING</td>\n",
       "      <td>2022-12-16 00:00:00</td>\n",
       "      <td>NaN</td>\n",
       "      <td>NaN</td>\n",
       "      <td>NaN</td>\n",
       "    </tr>\n",
       "    <tr>\n",
       "      <th>2</th>\n",
       "      <td>CYLL</td>\n",
       "      <td>2022-12-16 00:00</td>\n",
       "      <td>-15.0</td>\n",
       "      <td>-17.00</td>\n",
       "      <td>84.68</td>\n",
       "      <td>280.00</td>\n",
       "      <td>6.00</td>\n",
       "      <td>1030.50</td>\n",
       "      <td>0.0</td>\n",
       "      <td>6.00</td>\n",
       "      <td>...</td>\n",
       "      <td>False</td>\n",
       "      <td>False</td>\n",
       "      <td>False</td>\n",
       "      <td>False</td>\n",
       "      <td>False</td>\n",
       "      <td>NaN</td>\n",
       "      <td>2022-12-16 00:00:00</td>\n",
       "      <td>NaN</td>\n",
       "      <td>NaN</td>\n",
       "      <td>NaN</td>\n",
       "    </tr>\n",
       "    <tr>\n",
       "      <th>3</th>\n",
       "      <td>CYOJ</td>\n",
       "      <td>2022-12-16 00:00</td>\n",
       "      <td>-12.0</td>\n",
       "      <td>-13.00</td>\n",
       "      <td>92.25</td>\n",
       "      <td>180.00</td>\n",
       "      <td>2.00</td>\n",
       "      <td>1028.70</td>\n",
       "      <td>0.0</td>\n",
       "      <td>10.00</td>\n",
       "      <td>...</td>\n",
       "      <td>False</td>\n",
       "      <td>False</td>\n",
       "      <td>False</td>\n",
       "      <td>False</td>\n",
       "      <td>False</td>\n",
       "      <td>SNOW_ONLY</td>\n",
       "      <td>2022-12-16 00:00:00</td>\n",
       "      <td>NaN</td>\n",
       "      <td>NaN</td>\n",
       "      <td>NaN</td>\n",
       "    </tr>\n",
       "    <tr>\n",
       "      <th>4</th>\n",
       "      <td>CYZU</td>\n",
       "      <td>2022-12-16 00:00</td>\n",
       "      <td>-4.0</td>\n",
       "      <td>-7.00</td>\n",
       "      <td>79.62</td>\n",
       "      <td>290.00</td>\n",
       "      <td>4.00</td>\n",
       "      <td>1030.40</td>\n",
       "      <td>0.0</td>\n",
       "      <td>15.00</td>\n",
       "      <td>...</td>\n",
       "      <td>False</td>\n",
       "      <td>False</td>\n",
       "      <td>False</td>\n",
       "      <td>False</td>\n",
       "      <td>False</td>\n",
       "      <td>MISSING</td>\n",
       "      <td>2022-12-16 00:00:00</td>\n",
       "      <td>NaN</td>\n",
       "      <td>NaN</td>\n",
       "      <td>NaN</td>\n",
       "    </tr>\n",
       "  </tbody>\n",
       "</table>\n",
       "<p>5 rows × 35 columns</p>\n",
       "</div>"
      ],
      "text/plain": [
       "     station             valid  tmpc    dwpc   relh    drct  sknt     mslp  \\\n",
       "AB 0    CYQF  2022-12-16 00:00  -8.0  -11.00  79.00  240.00  5.00  1032.60   \n",
       "   1    CYQL  2022-12-16 00:00  -6.0   -9.00  79.31  250.00  4.00  1034.00   \n",
       "   2    CYLL  2022-12-16 00:00 -15.0  -17.00  84.68  280.00  6.00  1030.50   \n",
       "   3    CYOJ  2022-12-16 00:00 -12.0  -13.00  92.25  180.00  2.00  1028.70   \n",
       "   4    CYZU  2022-12-16 00:00  -4.0   -7.00  79.62  290.00  4.00  1030.40   \n",
       "\n",
       "      p01m   vsby  ...   Hail     GS     IP     DZ FZRA/FZDZ  \\\n",
       "AB 0   0.0   9.00  ...  False  False  False  False     False   \n",
       "   1   0.0  25.00  ...  False  False  False  False     False   \n",
       "   2   0.0   6.00  ...  False  False  False  False     False   \n",
       "   3   0.0  10.00  ...  False  False  False  False     False   \n",
       "   4   0.0  15.00  ...  False  False  False  False     False   \n",
       "\n",
       "     precipitation_category             valid_dt matched_image_file  \\\n",
       "AB 0                MISSING  2022-12-16 00:00:00                NaN   \n",
       "   1                MISSING  2022-12-16 00:00:00                NaN   \n",
       "   2                    NaN  2022-12-16 00:00:00                NaN   \n",
       "   3              SNOW_ONLY  2022-12-16 00:00:00                NaN   \n",
       "   4                MISSING  2022-12-16 00:00:00                NaN   \n",
       "\n",
       "     matched_image_folder p01i  \n",
       "AB 0                  NaN  NaN  \n",
       "   1                  NaN  NaN  \n",
       "   2                  NaN  NaN  \n",
       "   3                  NaN  NaN  \n",
       "   4                  NaN  NaN  \n",
       "\n",
       "[5 rows x 35 columns]"
      ]
     },
     "execution_count": 5,
     "metadata": {},
     "output_type": "execute_result"
    }
   ],
   "source": [
    "report_comb.head()"
   ]
  },
  {
   "cell_type": "code",
   "execution_count": 6,
   "id": "7fbfec75-e06b-4e83-bffd-6bfe17f20b46",
   "metadata": {
    "execution": {
     "iopub.execute_input": "2024-03-18T16:04:52.774048Z",
     "iopub.status.busy": "2024-03-18T16:04:52.773758Z",
     "iopub.status.idle": "2024-03-18T16:04:52.786059Z",
     "shell.execute_reply": "2024-03-18T16:04:52.785655Z",
     "shell.execute_reply.started": "2024-03-18T16:04:52.774028Z"
    },
    "tags": []
   },
   "outputs": [
    {
     "name": "stdout",
     "output_type": "stream",
     "text": [
      "['MISSING' 'SNOW_ONLY' 'RAIN_ONLY' 'RAIN_AND_SNOW' 'ICE' 'DRIZZLE_ONLY'\n",
      " 'FREEZING_PRECIP']\n",
      "7\n"
     ]
    }
   ],
   "source": [
    "import numpy as np\n",
    "\n",
    "#initialise class names and view them\n",
    "ORIG_CLASS_NAMES = [category for category in list(report_comb['precipitation_category'].unique()) if not pd.isna(category)]\n",
    "ORIG_CLASS_NAMES = np.array(ORIG_CLASS_NAMES)\n",
    "print(ORIG_CLASS_NAMES)\n",
    "print(len(ORIG_CLASS_NAMES))"
   ]
  },
  {
   "cell_type": "code",
   "execution_count": 7,
   "id": "b5654991-30a0-48c4-954c-fdf3d0f8210e",
   "metadata": {
    "execution": {
     "iopub.execute_input": "2024-03-18T16:04:53.677068Z",
     "iopub.status.busy": "2024-03-18T16:04:53.676778Z",
     "iopub.status.idle": "2024-03-18T16:04:53.688626Z",
     "shell.execute_reply": "2024-03-18T16:04:53.688225Z",
     "shell.execute_reply.started": "2024-03-18T16:04:53.677049Z"
    },
    "tags": []
   },
   "outputs": [
    {
     "name": "stdout",
     "output_type": "stream",
     "text": [
      "['MISSING' 'SNOW_ONLY' 'RAIN_ONLY' 'RAIN_AND_SNOW' 'ICE' 'DRIZZLE_ONLY'\n",
      " 'FREEZING_PRECIP']\n",
      "7\n"
     ]
    }
   ],
   "source": [
    "import numpy as np\n",
    "\n",
    "#initialise class names and view them\n",
    "CLASS_NAMES = [category for category in list(report_comb['precipitation_category'].unique()) if not pd.isna(category)]\n",
    "CLASS_NAMES = np.array(CLASS_NAMES)\n",
    "print(CLASS_NAMES)\n",
    "print(len(CLASS_NAMES))"
   ]
  },
  {
   "cell_type": "code",
   "execution_count": 8,
   "id": "156ad98a-53ef-4b21-af90-2d68f90ebb68",
   "metadata": {
    "execution": {
     "iopub.execute_input": "2024-03-18T16:04:55.145444Z",
     "iopub.status.busy": "2024-03-18T16:04:55.145131Z",
     "iopub.status.idle": "2024-03-18T16:04:55.147680Z",
     "shell.execute_reply": "2024-03-18T16:04:55.147307Z",
     "shell.execute_reply.started": "2024-03-18T16:04:55.145425Z"
    },
    "tags": []
   },
   "outputs": [],
   "source": [
    "map_class_names = {\n",
    "    'MISSING': 'MISSING',\n",
    "    'SNOW_ONLY': 'SNOW_ONLY',\n",
    "    'RAIN_ONLY': 'RAIN_ONLY',\n",
    "    'RAIN_AND_SNOW': 'RAIN_AND_SNOW',\n",
    "    'ICE': 'ICE',\n",
    "    'DRIZZLE_ONLY': 'DRIZZLE_ONLY',\n",
    "    'FREEZING_PRECIP': 'FREEZING_PRECIP',\n",
    "}"
   ]
  },
  {
   "cell_type": "code",
   "execution_count": 9,
   "id": "2f8648b5-39b4-42a5-b917-311efba1aec7",
   "metadata": {
    "execution": {
     "iopub.execute_input": "2024-03-18T16:05:02.059738Z",
     "iopub.status.busy": "2024-03-18T16:05:02.059415Z",
     "iopub.status.idle": "2024-03-18T16:05:02.062827Z",
     "shell.execute_reply": "2024-03-18T16:05:02.062442Z",
     "shell.execute_reply.started": "2024-03-18T16:05:02.059718Z"
    },
    "tags": []
   },
   "outputs": [],
   "source": [
    "import os\n",
    "\n",
    "def create_class_directories(parent_dir_path):\n",
    "    # Check if the main directory exists, if not, create it\n",
    "    if not os.path.exists(parent_dir_path):\n",
    "        os.makedirs(parent_dir_path)\n",
    "\n",
    "    # Iterate through the list of categories and create each as a subdirectory\n",
    "    for category in map_class_names.keys():\n",
    "        subdirectory_path = os.path.join(parent_dir_path, category)\n",
    "        if not os.path.exists(subdirectory_path):\n",
    "            os.makedirs(subdirectory_path)\n",
    "            print(f\"Created subdirectory: {subdirectory_path}\")\n",
    "        else:\n",
    "            print(f\"Subdirectory already exists: {subdirectory_path}\")"
   ]
  },
  {
   "cell_type": "code",
   "execution_count": 9,
   "id": "20aeb52f-1c15-4c93-8a91-37492a768c3a",
   "metadata": {
    "execution": {
     "iopub.execute_input": "2024-03-16T11:48:05.440974Z",
     "iopub.status.busy": "2024-03-16T11:48:05.440724Z",
     "iopub.status.idle": "2024-03-16T11:48:05.494444Z",
     "shell.execute_reply": "2024-03-16T11:48:05.494037Z",
     "shell.execute_reply.started": "2024-03-16T11:48:05.440955Z"
    },
    "tags": []
   },
   "outputs": [
    {
     "name": "stdout",
     "output_type": "stream",
     "text": [
      "Subdirectory already exists: /space/hall5/sitestore/eccc/mrd/rpnarmp/hol002/NavCan_WxCams_Sample_v3/balanced_images/MISSING\n",
      "Subdirectory already exists: /space/hall5/sitestore/eccc/mrd/rpnarmp/hol002/NavCan_WxCams_Sample_v3/balanced_images/SNOW_ONLY\n",
      "Subdirectory already exists: /space/hall5/sitestore/eccc/mrd/rpnarmp/hol002/NavCan_WxCams_Sample_v3/balanced_images/RAIN_ONLY\n",
      "Subdirectory already exists: /space/hall5/sitestore/eccc/mrd/rpnarmp/hol002/NavCan_WxCams_Sample_v3/balanced_images/RAIN_AND_SNOW\n",
      "Subdirectory already exists: /space/hall5/sitestore/eccc/mrd/rpnarmp/hol002/NavCan_WxCams_Sample_v3/balanced_images/ICE\n",
      "Subdirectory already exists: /space/hall5/sitestore/eccc/mrd/rpnarmp/hol002/NavCan_WxCams_Sample_v3/balanced_images/DRIZZLE_ONLY\n",
      "Subdirectory already exists: /space/hall5/sitestore/eccc/mrd/rpnarmp/hol002/NavCan_WxCams_Sample_v3/balanced_images/FREEZING_PRECIP\n"
     ]
    }
   ],
   "source": [
    "parent_dir_path = '/space/hall5/sitestore/eccc/mrd/rpnarmp/hol002/NavCan_WxCams_Sample_v3/classified_images'\n",
    "create_class_directories(parent_dir_path)"
   ]
  },
  {
   "cell_type": "code",
   "execution_count": 14,
   "id": "354e1f7d-f7dc-493e-8eb6-0fd1f3fd9674",
   "metadata": {
    "execution": {
     "iopub.execute_input": "2024-03-16T11:48:59.989227Z",
     "iopub.status.busy": "2024-03-16T11:48:59.988837Z",
     "iopub.status.idle": "2024-03-16T11:48:59.994061Z",
     "shell.execute_reply": "2024-03-16T11:48:59.993654Z",
     "shell.execute_reply.started": "2024-03-16T11:48:59.989207Z"
    },
    "tags": []
   },
   "outputs": [],
   "source": [
    "import pandas as pd\n",
    "import os\n",
    "import shutil\n",
    "from tqdm import tqdm\n",
    "\n",
    "def process_and_copy_images(src_dir_path, tgt_dir_path):\n",
    "    # Iterate through all files in the directory\n",
    "    for filename in tqdm(os.listdir(src_dir_path)):\n",
    "        try:\n",
    "            # Define the full file path\n",
    "            src_file_path = os.path.join(src_dir_path, filename)\n",
    "\n",
    "            # Check if the file is a file and not a directory\n",
    "            if os.path.isfile(src_file_path):\n",
    "                # Check if the filename matches any in the 'matched_image_file' column\n",
    "                matched = report_comb[report_comb['matched_image_file'] == ('-'.join(filename.split('.')[0].split('-')[:-1]) + '.jpg')]\n",
    "\n",
    "                # If there's a match, proceed\n",
    "                if not matched.empty:\n",
    "                    # Read the 'precipitation_category' from the matched row\n",
    "                    category_name = matched['precipitation_category'].values[0]\n",
    "\n",
    "                    if category_name in map_class_names.keys():\n",
    "                        category_name = map_class_names[category_name]\n",
    "                    else:\n",
    "                        continue\n",
    "\n",
    "                    if pd.isna(category_name):\n",
    "                        continue\n",
    "\n",
    "                    # Define the target directory based on the category\n",
    "                    tgt_sub_dir_path = os.path.join(tgt_dir_path, category_name)\n",
    "\n",
    "                    # Create the target directory if it doesn't exist\n",
    "                    if not os.path.exists(tgt_sub_dir_path):\n",
    "                        os.makedirs(tgt_sub_dir_path)\n",
    "\n",
    "                    # Define the target file path\n",
    "                    tgt_file_path = os.path.join(tgt_sub_dir_path, filename)\n",
    "\n",
    "                    # Copy the file to the target path\n",
    "                    shutil.copy(src_file_path, tgt_file_path)\n",
    "        except Exception as e:\n",
    "            print(f\"Error {e} has occurred...\")"
   ]
  },
  {
   "cell_type": "code",
   "execution_count": 15,
   "id": "e0eee8d6-6ce0-4340-bab2-cd53c9891b92",
   "metadata": {
    "execution": {
     "iopub.execute_input": "2024-03-16T11:49:01.527465Z",
     "iopub.status.busy": "2024-03-16T11:49:01.527204Z",
     "iopub.status.idle": "2024-03-16T12:33:22.693341Z",
     "shell.execute_reply": "2024-03-16T12:33:22.692708Z",
     "shell.execute_reply.started": "2024-03-16T11:49:01.527447Z"
    },
    "tags": []
   },
   "outputs": [
    {
     "name": "stderr",
     "output_type": "stream",
     "text": [
      "100%|██████████| 148953/148953 [44:21<00:00, 55.97it/s] \n"
     ]
    }
   ],
   "source": [
    "src_dir_path = \"/space/hall5/sitestore/eccc/mrd/rpnarmp/hol002/NavCan_WxCams_Sample_v3/valid_images\"\n",
    "tgt_dir_path = \"/space/hall5/sitestore/eccc/mrd/rpnarmp/hol002/NavCan_WxCams_Sample_v3/classified_images\"\n",
    "process_and_copy_images(src_dir_path, tgt_dir_path)"
   ]
  },
  {
   "cell_type": "markdown",
   "id": "923f0c99-1232-499f-aa90-8f2a8b3cd113",
   "metadata": {},
   "source": [
    "# Divide Train-Test-Validation Dataset"
   ]
  },
  {
   "cell_type": "code",
   "execution_count": 22,
   "id": "a0b17208-07f5-4560-ba05-5b80714345e3",
   "metadata": {
    "execution": {
     "iopub.execute_input": "2024-03-17T12:13:47.201567Z",
     "iopub.status.busy": "2024-03-17T12:13:47.201105Z",
     "iopub.status.idle": "2024-03-17T12:13:47.208596Z",
     "shell.execute_reply": "2024-03-17T12:13:47.208183Z",
     "shell.execute_reply.started": "2024-03-17T12:13:47.201532Z"
    },
    "tags": []
   },
   "outputs": [
    {
     "name": "stdout",
     "output_type": "stream",
     "text": [
      "Created subdirectory: /space/hall5/sitestore/eccc/mrd/rpnarmp/hol002/NavCan_WxCams_Sample_v3/classified_train_images/MISSING\n",
      "Created subdirectory: /space/hall5/sitestore/eccc/mrd/rpnarmp/hol002/NavCan_WxCams_Sample_v3/classified_train_images/SNOW_ONLY\n",
      "Created subdirectory: /space/hall5/sitestore/eccc/mrd/rpnarmp/hol002/NavCan_WxCams_Sample_v3/classified_train_images/RAIN_ONLY\n",
      "Created subdirectory: /space/hall5/sitestore/eccc/mrd/rpnarmp/hol002/NavCan_WxCams_Sample_v3/classified_train_images/RAIN_AND_SNOW\n",
      "Created subdirectory: /space/hall5/sitestore/eccc/mrd/rpnarmp/hol002/NavCan_WxCams_Sample_v3/classified_train_images/ICE\n",
      "Created subdirectory: /space/hall5/sitestore/eccc/mrd/rpnarmp/hol002/NavCan_WxCams_Sample_v3/classified_train_images/DRIZZLE_ONLY\n",
      "Created subdirectory: /space/hall5/sitestore/eccc/mrd/rpnarmp/hol002/NavCan_WxCams_Sample_v3/classified_train_images/FREEZING_PRECIP\n",
      "Created subdirectory: /space/hall5/sitestore/eccc/mrd/rpnarmp/hol002/NavCan_WxCams_Sample_v3/classified_test_images/MISSING\n",
      "Created subdirectory: /space/hall5/sitestore/eccc/mrd/rpnarmp/hol002/NavCan_WxCams_Sample_v3/classified_test_images/SNOW_ONLY\n",
      "Created subdirectory: /space/hall5/sitestore/eccc/mrd/rpnarmp/hol002/NavCan_WxCams_Sample_v3/classified_test_images/RAIN_ONLY\n",
      "Created subdirectory: /space/hall5/sitestore/eccc/mrd/rpnarmp/hol002/NavCan_WxCams_Sample_v3/classified_test_images/RAIN_AND_SNOW\n",
      "Created subdirectory: /space/hall5/sitestore/eccc/mrd/rpnarmp/hol002/NavCan_WxCams_Sample_v3/classified_test_images/ICE\n",
      "Created subdirectory: /space/hall5/sitestore/eccc/mrd/rpnarmp/hol002/NavCan_WxCams_Sample_v3/classified_test_images/DRIZZLE_ONLY\n",
      "Created subdirectory: /space/hall5/sitestore/eccc/mrd/rpnarmp/hol002/NavCan_WxCams_Sample_v3/classified_test_images/FREEZING_PRECIP\n",
      "Created subdirectory: /space/hall5/sitestore/eccc/mrd/rpnarmp/hol002/NavCan_WxCams_Sample_v3/classified_validation_images/MISSING\n",
      "Created subdirectory: /space/hall5/sitestore/eccc/mrd/rpnarmp/hol002/NavCan_WxCams_Sample_v3/classified_validation_images/SNOW_ONLY\n",
      "Created subdirectory: /space/hall5/sitestore/eccc/mrd/rpnarmp/hol002/NavCan_WxCams_Sample_v3/classified_validation_images/RAIN_ONLY\n",
      "Created subdirectory: /space/hall5/sitestore/eccc/mrd/rpnarmp/hol002/NavCan_WxCams_Sample_v3/classified_validation_images/RAIN_AND_SNOW\n",
      "Created subdirectory: /space/hall5/sitestore/eccc/mrd/rpnarmp/hol002/NavCan_WxCams_Sample_v3/classified_validation_images/ICE\n",
      "Created subdirectory: /space/hall5/sitestore/eccc/mrd/rpnarmp/hol002/NavCan_WxCams_Sample_v3/classified_validation_images/DRIZZLE_ONLY\n",
      "Created subdirectory: /space/hall5/sitestore/eccc/mrd/rpnarmp/hol002/NavCan_WxCams_Sample_v3/classified_validation_images/FREEZING_PRECIP\n"
     ]
    }
   ],
   "source": [
    "test_dir_path = \"/space/hall5/sitestore/eccc/mrd/rpnarmp/hol002/NavCan_WxCams_Sample_v3/classified_test_images\"\n",
    "validation_dir_path = \"/space/hall5/sitestore/eccc/mrd/rpnarmp/hol002/NavCan_WxCams_Sample_v3/classified_validation_images\"\n",
    "create_class_directories(test_dir_path)\n",
    "create_class_directories(validation_dir_path)"
   ]
  },
  {
   "cell_type": "code",
   "execution_count": 19,
   "id": "316604cd-a75c-45d7-9409-1cf600025de3",
   "metadata": {
    "execution": {
     "iopub.execute_input": "2024-03-18T16:17:11.320642Z",
     "iopub.status.busy": "2024-03-18T16:17:11.320331Z",
     "iopub.status.idle": "2024-03-18T16:17:11.325072Z",
     "shell.execute_reply": "2024-03-18T16:17:11.324648Z",
     "shell.execute_reply.started": "2024-03-18T16:17:11.320617Z"
    },
    "tags": []
   },
   "outputs": [],
   "source": [
    "import os\n",
    "import shutil\n",
    "import random\n",
    "\n",
    "def move_random_files(src_dir_path, tgt_dir_path, num_files):\n",
    "    \"\"\"\n",
    "    Moves a specified number of files from the source directory to the target directory randomly.\n",
    "    \n",
    "    Parameters:\n",
    "    src_dir_path (str): Path to the source directory.\n",
    "    tgt_dir_path (str): Path to the target directory.\n",
    "    num_files (int): Number of files to move.\n",
    "    \"\"\"\n",
    "    # List all files in the source directory\n",
    "    files = [file for file in os.listdir(src_dir_path) if os.path.isfile(os.path.join(src_dir_path, file))]\n",
    "    \n",
    "    # Check if there are enough files to move\n",
    "    if num_files > len(files):\n",
    "        raise ValueError(f\"Requested {num_files} files, but only {len(files)} available.\")\n",
    "    \n",
    "    # Randomly select files to move\n",
    "    selected_files = random.sample(files, num_files)\n",
    "    \n",
    "    # Move the selected files\n",
    "    for file in selected_files:\n",
    "        src_file_path = os.path.join(src_dir_path, file)\n",
    "        tgt_file_path = os.path.join(tgt_dir_path, file)\n",
    "        \n",
    "        # Move file from source to target directory\n",
    "        shutil.move(src_file_path, tgt_file_path)"
   ]
  },
  {
   "cell_type": "code",
   "execution_count": 21,
   "id": "3e4a740a-6cdf-4e6a-bf05-2f77948f05b0",
   "metadata": {
    "execution": {
     "iopub.execute_input": "2024-03-18T16:17:36.830836Z",
     "iopub.status.busy": "2024-03-18T16:17:36.830562Z",
     "iopub.status.idle": "2024-03-18T16:17:41.005053Z",
     "shell.execute_reply": "2024-03-18T16:17:41.004617Z",
     "shell.execute_reply.started": "2024-03-18T16:17:36.830815Z"
    },
    "tags": []
   },
   "outputs": [
    {
     "name": "stderr",
     "output_type": "stream",
     "text": [
      "100%|██████████| 7/7 [00:04<00:00,  1.68it/s]\n"
     ]
    }
   ],
   "source": [
    "from tqdm import tqdm\n",
    "\n",
    "for category in tqdm(map_class_names.keys()):\n",
    "    orig_dir_path = f\"/space/hall5/sitestore/eccc/mrd/rpnarmp/hol002/NavCan_WxCams_Sample_v3/classified_images/{category}\"\n",
    "    test_dir_path = f\"/space/hall5/sitestore/eccc/mrd/rpnarmp/hol002/NavCan_WxCams_Sample_v3/classified_test_images/{category}\"\n",
    "    validation_dir_path = f\"/space/hall5/sitestore/eccc/mrd/rpnarmp/hol002/NavCan_WxCams_Sample_v3/classified_validation_images/{category}\"\n",
    "    \n",
    "    category_to_num_files = {\n",
    "        \"DRIZZLE_ONLY\": min(1000, 1371 // 10),\n",
    "        \"FREEZING_PRECIP\": min(1000, 16 // 4),\n",
    "        \"ICE\": min(1000, 91 // 4),\n",
    "        \"MISSING\": min(1000, 96411 // 10),\n",
    "        \"RAIN_AND_SNOW\": min(1000, 444 // 4),\n",
    "        \"RAIN_ONLY\": min(1000, 10188 // 10),\n",
    "        \"SNOW_ONLY\": min(1000, 23021 // 10),\n",
    "    }\n",
    "    \n",
    "    move_random_files(orig_dir_path, test_dir_path, category_to_num_files[category])\n",
    "    move_random_files(orig_dir_path, validation_dir_path, category_to_num_files[category])"
   ]
  },
  {
   "cell_type": "code",
   "execution_count": 22,
   "id": "179a824f-2cbf-4269-a623-0b83cf658260",
   "metadata": {
    "execution": {
     "iopub.execute_input": "2024-03-18T16:18:25.327471Z",
     "iopub.status.busy": "2024-03-18T16:18:25.327174Z",
     "iopub.status.idle": "2024-03-18T16:18:25.510197Z",
     "shell.execute_reply": "2024-03-18T16:18:25.509656Z",
     "shell.execute_reply.started": "2024-03-18T16:18:25.327450Z"
    },
    "tags": []
   },
   "outputs": [],
   "source": [
    "!mv /space/hall5/sitestore/eccc/mrd/rpnarmp/hol002/NavCan_WxCams_Sample_v3/classified_images /space/hall5/sitestore/eccc/mrd/rpnarmp/hol002/NavCan_WxCams_Sample_v3/classified_train_images"
   ]
  },
  {
   "cell_type": "markdown",
   "id": "16f1c054-1d6e-4079-abde-f74220aa68f4",
   "metadata": {},
   "source": [
    "# Balanced 70K Images"
   ]
  },
  {
   "cell_type": "code",
   "execution_count": 28,
   "id": "cfb3eebe-adae-4f81-a600-068471af217f",
   "metadata": {
    "execution": {
     "iopub.execute_input": "2024-03-18T16:22:56.838080Z",
     "iopub.status.busy": "2024-03-18T16:22:56.837737Z",
     "iopub.status.idle": "2024-03-18T16:22:56.842501Z",
     "shell.execute_reply": "2024-03-18T16:22:56.842086Z",
     "shell.execute_reply.started": "2024-03-18T16:22:56.838058Z"
    },
    "tags": []
   },
   "outputs": [],
   "source": [
    "import os\n",
    "import shutil\n",
    "from math import ceil\n",
    "\n",
    "def distribute_files(src_dir_path, tgt_dir_path, limit):\n",
    "    # List all files in the source directory\n",
    "    files = [f for f in os.listdir(src_dir_path) if os.path.isfile(os.path.join(src_dir_path, f))]\n",
    "    \n",
    "    num_files = len(files)\n",
    "    \n",
    "    # Calculate how many times each file should be copied\n",
    "    if num_files >= limit:\n",
    "        files_to_copy = files[:limit]\n",
    "        for file in files_to_copy:\n",
    "            src_file_path = os.path.join(src_dir_path, file)\n",
    "            tgt_file_path = os.path.join(tgt_dir_path, file)\n",
    "            shutil.copy(src_file_path, tgt_file_path)\n",
    "    else:\n",
    "        # Calculate how many times to copy each file to reach a total of 1000 files\n",
    "        copies_per_file = limit // num_files\n",
    "        additional_copies = limit % num_files\n",
    "\n",
    "        for i, file in enumerate(files):\n",
    "            for j in range(copies_per_file + (1 if i < additional_copies else 0)):\n",
    "                src_file_path = os.path.join(src_dir_path, file)\n",
    "                tgt_file_path = os.path.join(tgt_dir_path, f\"{i}_{j}_{file}\")\n",
    "                shutil.copy(src_file_path, tgt_file_path)"
   ]
  },
  {
   "cell_type": "code",
   "execution_count": 26,
   "id": "a463080b-ba23-411f-8af6-6fafe3003403",
   "metadata": {
    "execution": {
     "iopub.execute_input": "2024-03-18T16:22:20.063347Z",
     "iopub.status.busy": "2024-03-18T16:22:20.062856Z",
     "iopub.status.idle": "2024-03-18T16:22:20.067184Z",
     "shell.execute_reply": "2024-03-18T16:22:20.066769Z",
     "shell.execute_reply.started": "2024-03-18T16:22:20.063325Z"
    },
    "tags": []
   },
   "outputs": [
    {
     "name": "stdout",
     "output_type": "stream",
     "text": [
      "Created subdirectory: /space/hall5/sitestore/eccc/mrd/rpnarmp/hol002/NavCan_WxCams_Sample_v3/balanced_70k_images/MISSING\n",
      "Created subdirectory: /space/hall5/sitestore/eccc/mrd/rpnarmp/hol002/NavCan_WxCams_Sample_v3/balanced_70k_images/SNOW_ONLY\n",
      "Created subdirectory: /space/hall5/sitestore/eccc/mrd/rpnarmp/hol002/NavCan_WxCams_Sample_v3/balanced_70k_images/RAIN_ONLY\n",
      "Created subdirectory: /space/hall5/sitestore/eccc/mrd/rpnarmp/hol002/NavCan_WxCams_Sample_v3/balanced_70k_images/RAIN_AND_SNOW\n",
      "Created subdirectory: /space/hall5/sitestore/eccc/mrd/rpnarmp/hol002/NavCan_WxCams_Sample_v3/balanced_70k_images/ICE\n",
      "Created subdirectory: /space/hall5/sitestore/eccc/mrd/rpnarmp/hol002/NavCan_WxCams_Sample_v3/balanced_70k_images/DRIZZLE_ONLY\n",
      "Created subdirectory: /space/hall5/sitestore/eccc/mrd/rpnarmp/hol002/NavCan_WxCams_Sample_v3/balanced_70k_images/FREEZING_PRECIP\n"
     ]
    }
   ],
   "source": [
    "balanced_70k_images_dir_path = f\"/space/hall5/sitestore/eccc/mrd/rpnarmp/hol002/NavCan_WxCams_Sample_v3/balanced_70k_images\"\n",
    "create_class_directories(balanced_70k_images_dir_path)"
   ]
  },
  {
   "cell_type": "code",
   "execution_count": 29,
   "id": "beb76618-a507-4eb5-be41-b06cd712a473",
   "metadata": {
    "execution": {
     "iopub.execute_input": "2024-03-18T16:23:05.867178Z",
     "iopub.status.busy": "2024-03-18T16:23:05.866698Z",
     "iopub.status.idle": "2024-03-18T16:27:25.652595Z",
     "shell.execute_reply": "2024-03-18T16:27:25.652008Z",
     "shell.execute_reply.started": "2024-03-18T16:23:05.867154Z"
    },
    "tags": []
   },
   "outputs": [
    {
     "name": "stderr",
     "output_type": "stream",
     "text": [
      "100%|██████████| 7/7 [04:19<00:00, 37.11s/it]\n"
     ]
    }
   ],
   "source": [
    "from tqdm import tqdm\n",
    "\n",
    "for category in tqdm(map_class_names.keys()):\n",
    "    src_dir_path = f\"/space/hall5/sitestore/eccc/mrd/rpnarmp/hol002/NavCan_WxCams_Sample_v3/classified_train_images/{category}\"\n",
    "    tgt_dir_path = f\"/space/hall5/sitestore/eccc/mrd/rpnarmp/hol002/NavCan_WxCams_Sample_v3/balanced_70k_images/{category}\"\n",
    "    distribute_files(src_dir_path, tgt_dir_path, 10000)"
   ]
  },
  {
   "cell_type": "code",
   "execution_count": 30,
   "id": "cc669bf2-4fd3-498e-9275-238872077997",
   "metadata": {
    "execution": {
     "iopub.execute_input": "2024-03-18T16:28:45.725365Z",
     "iopub.status.busy": "2024-03-18T16:28:45.725042Z",
     "iopub.status.idle": "2024-03-18T16:28:45.728461Z",
     "shell.execute_reply": "2024-03-18T16:28:45.728031Z",
     "shell.execute_reply.started": "2024-03-18T16:28:45.725341Z"
    },
    "tags": []
   },
   "outputs": [],
   "source": [
    "import shutil\n",
    "\n",
    "def zip_directory(source_dir, output_filename):\n",
    "    shutil.make_archive(output_filename, 'zip', source_dir)"
   ]
  },
  {
   "cell_type": "code",
   "execution_count": 31,
   "id": "8e2fa220-e4fa-408c-8b3b-3c63d556495a",
   "metadata": {
    "execution": {
     "iopub.execute_input": "2024-03-18T16:28:47.764261Z",
     "iopub.status.busy": "2024-03-18T16:28:47.763957Z",
     "iopub.status.idle": "2024-03-18T16:29:15.098851Z",
     "shell.execute_reply": "2024-03-18T16:29:15.098297Z",
     "shell.execute_reply.started": "2024-03-18T16:28:47.764241Z"
    },
    "tags": []
   },
   "outputs": [],
   "source": [
    "source_dir = \"/space/hall5/sitestore/eccc/mrd/rpnarmp/hol002/NavCan_WxCams_Sample_v3/balanced_70k_images\"\n",
    "output_filename = \"balanced_70k_images\"\n",
    "zip_directory(source_dir, output_filename)"
   ]
  },
  {
   "cell_type": "code",
   "execution_count": 34,
   "id": "540ab43a-ecee-4d15-a717-8ec53f953680",
   "metadata": {
    "execution": {
     "iopub.execute_input": "2024-03-18T16:30:09.358039Z",
     "iopub.status.busy": "2024-03-18T16:30:09.357320Z",
     "iopub.status.idle": "2024-03-18T16:31:16.953994Z",
     "shell.execute_reply": "2024-03-18T16:31:16.953499Z",
     "shell.execute_reply.started": "2024-03-18T16:30:09.358005Z"
    },
    "tags": []
   },
   "outputs": [],
   "source": [
    "source_dir = \"/space/hall5/sitestore/eccc/mrd/rpnarmp/hol002/NavCan_WxCams_Sample_v3/classified_test_images\"\n",
    "output_filename = \"test_images\"\n",
    "zip_directory(source_dir, output_filename)"
   ]
  },
  {
   "cell_type": "code",
   "execution_count": 35,
   "id": "edbe93d7-6257-4f51-bf11-d81c450fa931",
   "metadata": {
    "execution": {
     "iopub.execute_input": "2024-03-18T16:31:56.086366Z",
     "iopub.status.busy": "2024-03-18T16:31:56.086076Z",
     "iopub.status.idle": "2024-03-18T16:33:06.170427Z",
     "shell.execute_reply": "2024-03-18T16:33:06.169724Z",
     "shell.execute_reply.started": "2024-03-18T16:31:56.086344Z"
    },
    "tags": []
   },
   "outputs": [],
   "source": [
    "source_dir = \"/space/hall5/sitestore/eccc/mrd/rpnarmp/hol002/NavCan_WxCams_Sample_v3/classified_validation_images\"\n",
    "output_filename = \"validation_images\"\n",
    "zip_directory(source_dir, output_filename)"
   ]
  }
 ],
 "metadata": {
  "kernelspec": {
   "display_name": "Python 3 (ipykernel)",
   "language": "python",
   "name": "python3"
  },
  "language_info": {
   "codemirror_mode": {
    "name": "ipython",
    "version": 3
   },
   "file_extension": ".py",
   "mimetype": "text/x-python",
   "name": "python",
   "nbconvert_exporter": "python",
   "pygments_lexer": "ipython3",
   "version": "3.10.12"
  }
 },
 "nbformat": 4,
 "nbformat_minor": 5
}
