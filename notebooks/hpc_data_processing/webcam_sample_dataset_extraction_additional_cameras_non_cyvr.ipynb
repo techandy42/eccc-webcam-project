{
 "cells": [
  {
   "cell_type": "code",
   "execution_count": 8,
   "id": "0427140c-d478-4492-b592-1d8fad829237",
   "metadata": {
    "execution": {
     "iopub.execute_input": "2024-03-21T14:13:03.984928Z",
     "iopub.status.busy": "2024-03-21T14:13:03.984557Z",
     "iopub.status.idle": "2024-03-21T14:13:03.987189Z",
     "shell.execute_reply": "2024-03-21T14:13:03.986806Z",
     "shell.execute_reply.started": "2024-03-21T14:13:03.984909Z"
    },
    "tags": []
   },
   "outputs": [],
   "source": [
    "additional_camera_directories = [\n",
    "    \"/space/hall5/sitestore/eccc/mrd/rpnarmp/snow000/CYYZ/WxCam\",\n",
    "    \"/space/hall5/sitestore/eccc/mrd/rpnarmp/snow000/CYFB/WxCam\",\n",
    "    \"/space/hall5/sitestore/eccc/mrd/rpnarmp/snow000/CYXY/WxCam\",\n",
    "    \"/space/hall5/sitestore/eccc/mrd/rpnarmp/snow000/CWSK/WxCam\",\n",
    "]"
   ]
  },
  {
   "cell_type": "code",
   "execution_count": 9,
   "id": "279a2a52-5c7b-4b9c-b962-4390a234ce78",
   "metadata": {
    "execution": {
     "iopub.execute_input": "2024-03-21T14:13:13.693640Z",
     "iopub.status.busy": "2024-03-21T14:13:13.693332Z",
     "iopub.status.idle": "2024-03-21T14:13:13.697043Z",
     "shell.execute_reply": "2024-03-21T14:13:13.696632Z",
     "shell.execute_reply.started": "2024-03-21T14:13:13.693620Z"
    },
    "tags": []
   },
   "outputs": [],
   "source": [
    "import os\n",
    "\n",
    "def find_tgz_files_os_walk_grouped(directory):\n",
    "    tgz_files_grouped = {}\n",
    "    # Walk through directory\n",
    "    for root, dirs, files in os.walk(directory):\n",
    "        # Filter for .tgz files\n",
    "        tgz_files = [os.path.join(root, file) for file in files if file.endswith('.tgz')]\n",
    "        if tgz_files:  # Only add if .tgz files are found in the current directory\n",
    "            tgz_files_grouped[root] = tgz_files\n",
    "    return tgz_files_grouped"
   ]
  },
  {
   "cell_type": "code",
   "execution_count": 14,
   "id": "757637ed-7683-43a2-aad8-ee210f0a81e0",
   "metadata": {
    "execution": {
     "iopub.execute_input": "2024-03-21T14:17:57.342592Z",
     "iopub.status.busy": "2024-03-21T14:17:57.342279Z",
     "iopub.status.idle": "2024-03-21T14:17:57.550589Z",
     "shell.execute_reply": "2024-03-21T14:17:57.550175Z",
     "shell.execute_reply.started": "2024-03-21T14:17:57.342572Z"
    },
    "tags": []
   },
   "outputs": [
    {
     "name": "stdout",
     "output_type": "stream",
     "text": [
      "==================================================\n",
      "Directory: /space/hall5/sitestore/eccc/mrd/rpnarmp/snow000/CYYZ/WxCam\n",
      "Found 8030 .tgz files in 75 directories.\n",
      "/space/hall5/sitestore/eccc/mrd/rpnarmp/snow000/CYYZ/WxCam/2018/201809 contains 97 .tgz files.\n",
      "/space/hall5/sitestore/eccc/mrd/rpnarmp/snow000/CYYZ/WxCam/2018/201805 contains 96 .tgz files.\n",
      "/space/hall5/sitestore/eccc/mrd/rpnarmp/snow000/CYYZ/WxCam/2018/201801 contains 124 .tgz files.\n",
      "/space/hall5/sitestore/eccc/mrd/rpnarmp/snow000/CYYZ/WxCam/2018/201812 contains 12 .tgz files.\n",
      "/space/hall5/sitestore/eccc/mrd/rpnarmp/snow000/CYYZ/WxCam/2018/201803 contains 124 .tgz files.\n",
      "/space/hall5/sitestore/eccc/mrd/rpnarmp/snow000/CYYZ/WxCam/2018/201808 contains 124 .tgz files.\n",
      "/space/hall5/sitestore/eccc/mrd/rpnarmp/snow000/CYYZ/WxCam/2018/201806 contains 120 .tgz files.\n",
      "/space/hall5/sitestore/eccc/mrd/rpnarmp/snow000/CYYZ/WxCam/2018/201802 contains 112 .tgz files.\n",
      "/space/hall5/sitestore/eccc/mrd/rpnarmp/snow000/CYYZ/WxCam/2018/201804 contains 107 .tgz files.\n",
      "/space/hall5/sitestore/eccc/mrd/rpnarmp/snow000/CYYZ/WxCam/2018/201807 contains 124 .tgz files.\n",
      "/space/hall5/sitestore/eccc/mrd/rpnarmp/snow000/CYYZ/WxCam/2019/201904 contains 51 .tgz files.\n",
      "/space/hall5/sitestore/eccc/mrd/rpnarmp/snow000/CYYZ/WxCam/2019/201902 contains 109 .tgz files.\n",
      "/space/hall5/sitestore/eccc/mrd/rpnarmp/snow000/CYYZ/WxCam/2019/201903 contains 93 .tgz files.\n",
      "/space/hall5/sitestore/eccc/mrd/rpnarmp/snow000/CYYZ/WxCam/2019/201901 contains 124 .tgz files.\n",
      "/space/hall5/sitestore/eccc/mrd/rpnarmp/snow000/CYYZ/WxCam/2019/201912 contains 62 .tgz files.\n",
      "/space/hall5/sitestore/eccc/mrd/rpnarmp/snow000/CYYZ/WxCam/2019/201911 contains 38 .tgz files.\n",
      "/space/hall5/sitestore/eccc/mrd/rpnarmp/snow000/CYYZ/WxCam/2019/201906 contains 32 .tgz files.\n",
      "/space/hall5/sitestore/eccc/mrd/rpnarmp/snow000/CYYZ/WxCam/2019/201910 contains 101 .tgz files.\n",
      "/space/hall5/sitestore/eccc/mrd/rpnarmp/snow000/CYYZ/WxCam/2019/201905 contains 54 .tgz files.\n",
      "/space/hall5/sitestore/eccc/mrd/rpnarmp/snow000/CYYZ/WxCam/2016/201604 contains 9 .tgz files.\n",
      "/space/hall5/sitestore/eccc/mrd/rpnarmp/snow000/CYYZ/WxCam/2016/201611 contains 120 .tgz files.\n",
      "/space/hall5/sitestore/eccc/mrd/rpnarmp/snow000/CYYZ/WxCam/2016/201606 contains 120 .tgz files.\n",
      "/space/hall5/sitestore/eccc/mrd/rpnarmp/snow000/CYYZ/WxCam/2016/201610 contains 124 .tgz files.\n",
      "/space/hall5/sitestore/eccc/mrd/rpnarmp/snow000/CYYZ/WxCam/2016/201605 contains 121 .tgz files.\n",
      "/space/hall5/sitestore/eccc/mrd/rpnarmp/snow000/CYYZ/WxCam/2016/201612 contains 124 .tgz files.\n",
      "/space/hall5/sitestore/eccc/mrd/rpnarmp/snow000/CYYZ/WxCam/2016/201607 contains 80 .tgz files.\n",
      "/space/hall5/sitestore/eccc/mrd/rpnarmp/snow000/CYYZ/WxCam/2017/201702 contains 112 .tgz files.\n",
      "/space/hall5/sitestore/eccc/mrd/rpnarmp/snow000/CYYZ/WxCam/2017/201701 contains 124 .tgz files.\n",
      "/space/hall5/sitestore/eccc/mrd/rpnarmp/snow000/CYYZ/WxCam/2017/201708 contains 124 .tgz files.\n",
      "/space/hall5/sitestore/eccc/mrd/rpnarmp/snow000/CYYZ/WxCam/2017/201707 contains 124 .tgz files.\n",
      "/space/hall5/sitestore/eccc/mrd/rpnarmp/snow000/CYYZ/WxCam/2017/201706 contains 120 .tgz files.\n",
      "/space/hall5/sitestore/eccc/mrd/rpnarmp/snow000/CYYZ/WxCam/2017/201705 contains 124 .tgz files.\n",
      "/space/hall5/sitestore/eccc/mrd/rpnarmp/snow000/CYYZ/WxCam/2017/201704 contains 120 .tgz files.\n",
      "/space/hall5/sitestore/eccc/mrd/rpnarmp/snow000/CYYZ/WxCam/2017/201703 contains 124 .tgz files.\n",
      "/space/hall5/sitestore/eccc/mrd/rpnarmp/snow000/CYYZ/WxCam/2017/201709 contains 120 .tgz files.\n",
      "/space/hall5/sitestore/eccc/mrd/rpnarmp/snow000/CYYZ/WxCam/2017/201712 contains 124 .tgz files.\n",
      "/space/hall5/sitestore/eccc/mrd/rpnarmp/snow000/CYYZ/WxCam/2017/201711 contains 120 .tgz files.\n",
      "/space/hall5/sitestore/eccc/mrd/rpnarmp/snow000/CYYZ/WxCam/2017/201710 contains 124 .tgz files.\n",
      "/space/hall5/sitestore/eccc/mrd/rpnarmp/snow000/CYYZ/WxCam/2024/202401 contains 32 .tgz files.\n",
      "/space/hall5/sitestore/eccc/mrd/rpnarmp/snow000/CYYZ/WxCam/2020/202006 contains 80 .tgz files.\n",
      "/space/hall5/sitestore/eccc/mrd/rpnarmp/snow000/CYYZ/WxCam/2020/202002 contains 116 .tgz files.\n",
      "/space/hall5/sitestore/eccc/mrd/rpnarmp/snow000/CYYZ/WxCam/2020/202005 contains 124 .tgz files.\n",
      "/space/hall5/sitestore/eccc/mrd/rpnarmp/snow000/CYYZ/WxCam/2020/202001 contains 96 .tgz files.\n",
      "/space/hall5/sitestore/eccc/mrd/rpnarmp/snow000/CYYZ/WxCam/2020/202004 contains 120 .tgz files.\n",
      "/space/hall5/sitestore/eccc/mrd/rpnarmp/snow000/CYYZ/WxCam/2020/202003 contains 124 .tgz files.\n",
      "/space/hall5/sitestore/eccc/mrd/rpnarmp/snow000/CYYZ/WxCam/2021/202111 contains 120 .tgz files.\n",
      "/space/hall5/sitestore/eccc/mrd/rpnarmp/snow000/CYYZ/WxCam/2021/202109 contains 120 .tgz files.\n",
      "/space/hall5/sitestore/eccc/mrd/rpnarmp/snow000/CYYZ/WxCam/2021/202112 contains 124 .tgz files.\n",
      "/space/hall5/sitestore/eccc/mrd/rpnarmp/snow000/CYYZ/WxCam/2021/202108 contains 32 .tgz files.\n",
      "/space/hall5/sitestore/eccc/mrd/rpnarmp/snow000/CYYZ/WxCam/2021/202110 contains 124 .tgz files.\n",
      "/space/hall5/sitestore/eccc/mrd/rpnarmp/snow000/CYYZ/WxCam/2022/202207 contains 124 .tgz files.\n",
      "/space/hall5/sitestore/eccc/mrd/rpnarmp/snow000/CYYZ/WxCam/2022/202202 contains 112 .tgz files.\n",
      "/space/hall5/sitestore/eccc/mrd/rpnarmp/snow000/CYYZ/WxCam/2022/202203 contains 124 .tgz files.\n",
      "/space/hall5/sitestore/eccc/mrd/rpnarmp/snow000/CYYZ/WxCam/2022/202210 contains 124 .tgz files.\n",
      "/space/hall5/sitestore/eccc/mrd/rpnarmp/snow000/CYYZ/WxCam/2022/202206 contains 120 .tgz files.\n",
      "/space/hall5/sitestore/eccc/mrd/rpnarmp/snow000/CYYZ/WxCam/2022/202201 contains 124 .tgz files.\n",
      "/space/hall5/sitestore/eccc/mrd/rpnarmp/snow000/CYYZ/WxCam/2022/202205 contains 124 .tgz files.\n",
      "/space/hall5/sitestore/eccc/mrd/rpnarmp/snow000/CYYZ/WxCam/2022/202212 contains 124 .tgz files.\n",
      "/space/hall5/sitestore/eccc/mrd/rpnarmp/snow000/CYYZ/WxCam/2022/202208 contains 124 .tgz files.\n",
      "/space/hall5/sitestore/eccc/mrd/rpnarmp/snow000/CYYZ/WxCam/2022/202209 contains 120 .tgz files.\n",
      "/space/hall5/sitestore/eccc/mrd/rpnarmp/snow000/CYYZ/WxCam/2022/202204 contains 120 .tgz files.\n",
      "/space/hall5/sitestore/eccc/mrd/rpnarmp/snow000/CYYZ/WxCam/2022/202211 contains 120 .tgz files.\n",
      "/space/hall5/sitestore/eccc/mrd/rpnarmp/snow000/CYYZ/WxCam/2023 contains 40 .tgz files.\n",
      "/space/hall5/sitestore/eccc/mrd/rpnarmp/snow000/CYYZ/WxCam/2023/202309 contains 120 .tgz files.\n",
      "/space/hall5/sitestore/eccc/mrd/rpnarmp/snow000/CYYZ/WxCam/2023/202303 contains 124 .tgz files.\n",
      "/space/hall5/sitestore/eccc/mrd/rpnarmp/snow000/CYYZ/WxCam/2023/202304 contains 120 .tgz files.\n",
      "/space/hall5/sitestore/eccc/mrd/rpnarmp/snow000/CYYZ/WxCam/2023/202305 contains 124 .tgz files.\n",
      "/space/hall5/sitestore/eccc/mrd/rpnarmp/snow000/CYYZ/WxCam/2023/202306 contains 120 .tgz files.\n",
      "/space/hall5/sitestore/eccc/mrd/rpnarmp/snow000/CYYZ/WxCam/2023/202307 contains 124 .tgz files.\n",
      "/space/hall5/sitestore/eccc/mrd/rpnarmp/snow000/CYYZ/WxCam/2023/202301 contains 124 .tgz files.\n",
      "/space/hall5/sitestore/eccc/mrd/rpnarmp/snow000/CYYZ/WxCam/2023/202308 contains 124 .tgz files.\n",
      "/space/hall5/sitestore/eccc/mrd/rpnarmp/snow000/CYYZ/WxCam/2023/202302 contains 112 .tgz files.\n",
      "/space/hall5/sitestore/eccc/mrd/rpnarmp/snow000/CYYZ/WxCam/2023/202310 contains 124 .tgz files.\n",
      "/space/hall5/sitestore/eccc/mrd/rpnarmp/snow000/CYYZ/WxCam/2023/202311 contains 116 .tgz files.\n",
      "/space/hall5/sitestore/eccc/mrd/rpnarmp/snow000/CYYZ/WxCam/2023/202312 contains 124 .tgz files.\n",
      "==================================================\n",
      "==================================================\n",
      "Directory: /space/hall5/sitestore/eccc/mrd/rpnarmp/snow000/CYFB/WxCam\n",
      "Found 16130 .tgz files in 63 directories.\n",
      "/space/hall5/sitestore/eccc/mrd/rpnarmp/snow000/CYFB/WxCam/2018/201809 contains 405 .tgz files.\n",
      "/space/hall5/sitestore/eccc/mrd/rpnarmp/snow000/CYFB/WxCam/2018/201805 contains 153 .tgz files.\n",
      "/space/hall5/sitestore/eccc/mrd/rpnarmp/snow000/CYFB/WxCam/2018/201801 contains 145 .tgz files.\n",
      "/space/hall5/sitestore/eccc/mrd/rpnarmp/snow000/CYFB/WxCam/2018/201812 contains 540 .tgz files.\n",
      "/space/hall5/sitestore/eccc/mrd/rpnarmp/snow000/CYFB/WxCam/2018/201803 contains 152 .tgz files.\n",
      "/space/hall5/sitestore/eccc/mrd/rpnarmp/snow000/CYFB/WxCam/2018/201808 contains 248 .tgz files.\n",
      "/space/hall5/sitestore/eccc/mrd/rpnarmp/snow000/CYFB/WxCam/2018/201810 contains 522 .tgz files.\n",
      "/space/hall5/sitestore/eccc/mrd/rpnarmp/snow000/CYFB/WxCam/2018/201806 contains 164 .tgz files.\n",
      "/space/hall5/sitestore/eccc/mrd/rpnarmp/snow000/CYFB/WxCam/2018/201802 contains 116 .tgz files.\n",
      "/space/hall5/sitestore/eccc/mrd/rpnarmp/snow000/CYFB/WxCam/2018/201804 contains 130 .tgz files.\n",
      "/space/hall5/sitestore/eccc/mrd/rpnarmp/snow000/CYFB/WxCam/2018/201811 contains 540 .tgz files.\n",
      "/space/hall5/sitestore/eccc/mrd/rpnarmp/snow000/CYFB/WxCam/2018/201807 contains 110 .tgz files.\n",
      "/space/hall5/sitestore/eccc/mrd/rpnarmp/snow000/CYFB/WxCam/2019 contains 4 .tgz files.\n",
      "/space/hall5/sitestore/eccc/mrd/rpnarmp/snow000/CYFB/WxCam/2019/201904 contains 218 .tgz files.\n",
      "/space/hall5/sitestore/eccc/mrd/rpnarmp/snow000/CYFB/WxCam/2019/201902 contains 314 .tgz files.\n",
      "/space/hall5/sitestore/eccc/mrd/rpnarmp/snow000/CYFB/WxCam/2019/201903 contains 327 .tgz files.\n",
      "/space/hall5/sitestore/eccc/mrd/rpnarmp/snow000/CYFB/WxCam/2019/201901 contains 346 .tgz files.\n",
      "/space/hall5/sitestore/eccc/mrd/rpnarmp/snow000/CYFB/WxCam/2019/201908 contains 191 .tgz files.\n",
      "/space/hall5/sitestore/eccc/mrd/rpnarmp/snow000/CYFB/WxCam/2019/201912 contains 372 .tgz files.\n",
      "/space/hall5/sitestore/eccc/mrd/rpnarmp/snow000/CYFB/WxCam/2019/201909 contains 300 .tgz files.\n",
      "/space/hall5/sitestore/eccc/mrd/rpnarmp/snow000/CYFB/WxCam/2019/201907 contains 177 .tgz files.\n",
      "/space/hall5/sitestore/eccc/mrd/rpnarmp/snow000/CYFB/WxCam/2019/201911 contains 360 .tgz files.\n",
      "/space/hall5/sitestore/eccc/mrd/rpnarmp/snow000/CYFB/WxCam/2019/201906 contains 175 .tgz files.\n",
      "/space/hall5/sitestore/eccc/mrd/rpnarmp/snow000/CYFB/WxCam/2019/201910 contains 366 .tgz files.\n",
      "/space/hall5/sitestore/eccc/mrd/rpnarmp/snow000/CYFB/WxCam/2019/201905 contains 224 .tgz files.\n",
      "/space/hall5/sitestore/eccc/mrd/rpnarmp/snow000/CYFB/WxCam/2016/201604 contains 90 .tgz files.\n",
      "/space/hall5/sitestore/eccc/mrd/rpnarmp/snow000/CYFB/WxCam/2016/201611 contains 112 .tgz files.\n",
      "/space/hall5/sitestore/eccc/mrd/rpnarmp/snow000/CYFB/WxCam/2016/201606 contains 132 .tgz files.\n",
      "/space/hall5/sitestore/eccc/mrd/rpnarmp/snow000/CYFB/WxCam/2016/201609 contains 155 .tgz files.\n",
      "/space/hall5/sitestore/eccc/mrd/rpnarmp/snow000/CYFB/WxCam/2016/201608 contains 155 .tgz files.\n",
      "/space/hall5/sitestore/eccc/mrd/rpnarmp/snow000/CYFB/WxCam/2016/201603 contains 69 .tgz files.\n",
      "/space/hall5/sitestore/eccc/mrd/rpnarmp/snow000/CYFB/WxCam/2016/201610 contains 139 .tgz files.\n",
      "/space/hall5/sitestore/eccc/mrd/rpnarmp/snow000/CYFB/WxCam/2016/201605 contains 90 .tgz files.\n",
      "/space/hall5/sitestore/eccc/mrd/rpnarmp/snow000/CYFB/WxCam/2016/201612 contains 131 .tgz files.\n",
      "/space/hall5/sitestore/eccc/mrd/rpnarmp/snow000/CYFB/WxCam/2017/201702 contains 140 .tgz files.\n",
      "/space/hall5/sitestore/eccc/mrd/rpnarmp/snow000/CYFB/WxCam/2017/201701 contains 151 .tgz files.\n",
      "/space/hall5/sitestore/eccc/mrd/rpnarmp/snow000/CYFB/WxCam/2017/201708 contains 300 .tgz files.\n",
      "/space/hall5/sitestore/eccc/mrd/rpnarmp/snow000/CYFB/WxCam/2017/201707 contains 155 .tgz files.\n",
      "/space/hall5/sitestore/eccc/mrd/rpnarmp/snow000/CYFB/WxCam/2017/201706 contains 148 .tgz files.\n",
      "/space/hall5/sitestore/eccc/mrd/rpnarmp/snow000/CYFB/WxCam/2017/201705 contains 155 .tgz files.\n",
      "/space/hall5/sitestore/eccc/mrd/rpnarmp/snow000/CYFB/WxCam/2017/201704 contains 150 .tgz files.\n",
      "/space/hall5/sitestore/eccc/mrd/rpnarmp/snow000/CYFB/WxCam/2017/201703 contains 155 .tgz files.\n",
      "/space/hall5/sitestore/eccc/mrd/rpnarmp/snow000/CYFB/WxCam/2017/201709 contains 150 .tgz files.\n",
      "/space/hall5/sitestore/eccc/mrd/rpnarmp/snow000/CYFB/WxCam/2017/201712 contains 150 .tgz files.\n",
      "/space/hall5/sitestore/eccc/mrd/rpnarmp/snow000/CYFB/WxCam/2017/201711 contains 215 .tgz files.\n",
      "/space/hall5/sitestore/eccc/mrd/rpnarmp/snow000/CYFB/WxCam/2017/201710 contains 220 .tgz files.\n",
      "/space/hall5/sitestore/eccc/mrd/rpnarmp/snow000/CYFB/WxCam/2020 contains 2 .tgz files.\n",
      "/space/hall5/sitestore/eccc/mrd/rpnarmp/snow000/CYFB/WxCam/2020/202006 contains 394 .tgz files.\n",
      "/space/hall5/sitestore/eccc/mrd/rpnarmp/snow000/CYFB/WxCam/2020/202009 contains 437 .tgz files.\n",
      "/space/hall5/sitestore/eccc/mrd/rpnarmp/snow000/CYFB/WxCam/2020/202002 contains 348 .tgz files.\n",
      "/space/hall5/sitestore/eccc/mrd/rpnarmp/snow000/CYFB/WxCam/2020/202005 contains 492 .tgz files.\n",
      "/space/hall5/sitestore/eccc/mrd/rpnarmp/snow000/CYFB/WxCam/2020/202012 contains 515 .tgz files.\n",
      "/space/hall5/sitestore/eccc/mrd/rpnarmp/snow000/CYFB/WxCam/2020/202001 contains 337 .tgz files.\n",
      "/space/hall5/sitestore/eccc/mrd/rpnarmp/snow000/CYFB/WxCam/2020/202004 contains 450 .tgz files.\n",
      "/space/hall5/sitestore/eccc/mrd/rpnarmp/snow000/CYFB/WxCam/2020/202011 contains 495 .tgz files.\n",
      "/space/hall5/sitestore/eccc/mrd/rpnarmp/snow000/CYFB/WxCam/2020/202003 contains 352 .tgz files.\n",
      "/space/hall5/sitestore/eccc/mrd/rpnarmp/snow000/CYFB/WxCam/2020/202010 contains 411 .tgz files.\n",
      "/space/hall5/sitestore/eccc/mrd/rpnarmp/snow000/CYFB/WxCam/2020/202008 contains 411 .tgz files.\n",
      "/space/hall5/sitestore/eccc/mrd/rpnarmp/snow000/CYFB/WxCam/2020/202007 contains 435 .tgz files.\n",
      "/space/hall5/sitestore/eccc/mrd/rpnarmp/snow000/CYFB/WxCam/2021/202103 contains 436 .tgz files.\n",
      "/space/hall5/sitestore/eccc/mrd/rpnarmp/snow000/CYFB/WxCam/2021/202101 contains 434 .tgz files.\n",
      "/space/hall5/sitestore/eccc/mrd/rpnarmp/snow000/CYFB/WxCam/2021/202104 contains 28 .tgz files.\n",
      "/space/hall5/sitestore/eccc/mrd/rpnarmp/snow000/CYFB/WxCam/2021/202102 contains 392 .tgz files.\n",
      "==================================================\n",
      "==================================================\n",
      "Directory: /space/hall5/sitestore/eccc/mrd/rpnarmp/snow000/CYXY/WxCam\n",
      "Found 5089 .tgz files in 43 directories.\n",
      "/space/hall5/sitestore/eccc/mrd/rpnarmp/snow000/CYXY/WxCam/2018/201809 contains 104 .tgz files.\n",
      "/space/hall5/sitestore/eccc/mrd/rpnarmp/snow000/CYXY/WxCam/2018/201812 contains 124 .tgz files.\n",
      "/space/hall5/sitestore/eccc/mrd/rpnarmp/snow000/CYXY/WxCam/2018/201808 contains 121 .tgz files.\n",
      "/space/hall5/sitestore/eccc/mrd/rpnarmp/snow000/CYXY/WxCam/2018/201810 contains 124 .tgz files.\n",
      "/space/hall5/sitestore/eccc/mrd/rpnarmp/snow000/CYXY/WxCam/2018/201811 contains 120 .tgz files.\n",
      "/space/hall5/sitestore/eccc/mrd/rpnarmp/snow000/CYXY/WxCam/2018/201807 contains 124 .tgz files.\n",
      "/space/hall5/sitestore/eccc/mrd/rpnarmp/snow000/CYXY/WxCam/2019/201904 contains 120 .tgz files.\n",
      "/space/hall5/sitestore/eccc/mrd/rpnarmp/snow000/CYXY/WxCam/2019/201902 contains 80 .tgz files.\n",
      "/space/hall5/sitestore/eccc/mrd/rpnarmp/snow000/CYXY/WxCam/2019/201903 contains 124 .tgz files.\n",
      "/space/hall5/sitestore/eccc/mrd/rpnarmp/snow000/CYXY/WxCam/2019/201901 contains 124 .tgz files.\n",
      "/space/hall5/sitestore/eccc/mrd/rpnarmp/snow000/CYXY/WxCam/2019/201908 contains 124 .tgz files.\n",
      "/space/hall5/sitestore/eccc/mrd/rpnarmp/snow000/CYXY/WxCam/2019/201912 contains 124 .tgz files.\n",
      "/space/hall5/sitestore/eccc/mrd/rpnarmp/snow000/CYXY/WxCam/2019/201909 contains 120 .tgz files.\n",
      "/space/hall5/sitestore/eccc/mrd/rpnarmp/snow000/CYXY/WxCam/2019/201907 contains 124 .tgz files.\n",
      "/space/hall5/sitestore/eccc/mrd/rpnarmp/snow000/CYXY/WxCam/2019/201911 contains 120 .tgz files.\n",
      "/space/hall5/sitestore/eccc/mrd/rpnarmp/snow000/CYXY/WxCam/2019/201906 contains 120 .tgz files.\n",
      "/space/hall5/sitestore/eccc/mrd/rpnarmp/snow000/CYXY/WxCam/2019/201910 contains 120 .tgz files.\n",
      "/space/hall5/sitestore/eccc/mrd/rpnarmp/snow000/CYXY/WxCam/2019/201905 contains 124 .tgz files.\n",
      "/space/hall5/sitestore/eccc/mrd/rpnarmp/snow000/CYXY/WxCam/2020/202006 contains 120 .tgz files.\n",
      "/space/hall5/sitestore/eccc/mrd/rpnarmp/snow000/CYXY/WxCam/2020/202009 contains 120 .tgz files.\n",
      "/space/hall5/sitestore/eccc/mrd/rpnarmp/snow000/CYXY/WxCam/2020/202002 contains 116 .tgz files.\n",
      "/space/hall5/sitestore/eccc/mrd/rpnarmp/snow000/CYXY/WxCam/2020/202005 contains 124 .tgz files.\n",
      "/space/hall5/sitestore/eccc/mrd/rpnarmp/snow000/CYXY/WxCam/2020/202012 contains 124 .tgz files.\n",
      "/space/hall5/sitestore/eccc/mrd/rpnarmp/snow000/CYXY/WxCam/2020/202001 contains 124 .tgz files.\n",
      "/space/hall5/sitestore/eccc/mrd/rpnarmp/snow000/CYXY/WxCam/2020/202004 contains 120 .tgz files.\n",
      "/space/hall5/sitestore/eccc/mrd/rpnarmp/snow000/CYXY/WxCam/2020/202011 contains 120 .tgz files.\n",
      "/space/hall5/sitestore/eccc/mrd/rpnarmp/snow000/CYXY/WxCam/2020/202003 contains 124 .tgz files.\n",
      "/space/hall5/sitestore/eccc/mrd/rpnarmp/snow000/CYXY/WxCam/2020/202010 contains 124 .tgz files.\n",
      "/space/hall5/sitestore/eccc/mrd/rpnarmp/snow000/CYXY/WxCam/2020/202008 contains 124 .tgz files.\n",
      "/space/hall5/sitestore/eccc/mrd/rpnarmp/snow000/CYXY/WxCam/2020/202007 contains 124 .tgz files.\n",
      "/space/hall5/sitestore/eccc/mrd/rpnarmp/snow000/CYXY/WxCam/2021/202111 contains 120 .tgz files.\n",
      "/space/hall5/sitestore/eccc/mrd/rpnarmp/snow000/CYXY/WxCam/2021/202106 contains 120 .tgz files.\n",
      "/space/hall5/sitestore/eccc/mrd/rpnarmp/snow000/CYXY/WxCam/2021/202103 contains 124 .tgz files.\n",
      "/space/hall5/sitestore/eccc/mrd/rpnarmp/snow000/CYXY/WxCam/2021/202101 contains 124 .tgz files.\n",
      "/space/hall5/sitestore/eccc/mrd/rpnarmp/snow000/CYXY/WxCam/2021/202109 contains 120 .tgz files.\n",
      "/space/hall5/sitestore/eccc/mrd/rpnarmp/snow000/CYXY/WxCam/2021/202112 contains 124 .tgz files.\n",
      "/space/hall5/sitestore/eccc/mrd/rpnarmp/snow000/CYXY/WxCam/2021/202107 contains 124 .tgz files.\n",
      "/space/hall5/sitestore/eccc/mrd/rpnarmp/snow000/CYXY/WxCam/2021/202104 contains 120 .tgz files.\n",
      "/space/hall5/sitestore/eccc/mrd/rpnarmp/snow000/CYXY/WxCam/2021/202102 contains 112 .tgz files.\n",
      "/space/hall5/sitestore/eccc/mrd/rpnarmp/snow000/CYXY/WxCam/2021/202108 contains 124 .tgz files.\n",
      "/space/hall5/sitestore/eccc/mrd/rpnarmp/snow000/CYXY/WxCam/2021/202110 contains 124 .tgz files.\n",
      "/space/hall5/sitestore/eccc/mrd/rpnarmp/snow000/CYXY/WxCam/2021/202105 contains 124 .tgz files.\n",
      "/space/hall5/sitestore/eccc/mrd/rpnarmp/snow000/CYXY/WxCam/2022/202201 contains 24 .tgz files.\n",
      "==================================================\n",
      "==================================================\n",
      "Directory: /space/hall5/sitestore/eccc/mrd/rpnarmp/snow000/CWSK/WxCam\n",
      "Found 11369 .tgz files in 84 directories.\n",
      "/space/hall5/sitestore/eccc/mrd/rpnarmp/snow000/CWSK/WxCam/2018/201809 contains 150 .tgz files.\n",
      "/space/hall5/sitestore/eccc/mrd/rpnarmp/snow000/CWSK/WxCam/2018/201805 contains 155 .tgz files.\n",
      "/space/hall5/sitestore/eccc/mrd/rpnarmp/snow000/CWSK/WxCam/2018/201801 contains 62 .tgz files.\n",
      "/space/hall5/sitestore/eccc/mrd/rpnarmp/snow000/CWSK/WxCam/2018/201812 contains 155 .tgz files.\n",
      "/space/hall5/sitestore/eccc/mrd/rpnarmp/snow000/CWSK/WxCam/2018/201803 contains 155 .tgz files.\n",
      "/space/hall5/sitestore/eccc/mrd/rpnarmp/snow000/CWSK/WxCam/2018/201808 contains 155 .tgz files.\n",
      "/space/hall5/sitestore/eccc/mrd/rpnarmp/snow000/CWSK/WxCam/2018/201810 contains 155 .tgz files.\n",
      "/space/hall5/sitestore/eccc/mrd/rpnarmp/snow000/CWSK/WxCam/2018/201806 contains 99 .tgz files.\n",
      "/space/hall5/sitestore/eccc/mrd/rpnarmp/snow000/CWSK/WxCam/2018/201802 contains 140 .tgz files.\n",
      "/space/hall5/sitestore/eccc/mrd/rpnarmp/snow000/CWSK/WxCam/2018/201804 contains 144 .tgz files.\n",
      "/space/hall5/sitestore/eccc/mrd/rpnarmp/snow000/CWSK/WxCam/2018/201811 contains 150 .tgz files.\n",
      "/space/hall5/sitestore/eccc/mrd/rpnarmp/snow000/CWSK/WxCam/2018/201807 contains 137 .tgz files.\n",
      "/space/hall5/sitestore/eccc/mrd/rpnarmp/snow000/CWSK/WxCam/2019/201904 contains 78 .tgz files.\n",
      "/space/hall5/sitestore/eccc/mrd/rpnarmp/snow000/CWSK/WxCam/2019/201902 contains 138 .tgz files.\n",
      "/space/hall5/sitestore/eccc/mrd/rpnarmp/snow000/CWSK/WxCam/2019/201903 contains 98 .tgz files.\n",
      "/space/hall5/sitestore/eccc/mrd/rpnarmp/snow000/CWSK/WxCam/2019/201901 contains 155 .tgz files.\n",
      "/space/hall5/sitestore/eccc/mrd/rpnarmp/snow000/CWSK/WxCam/2019/201908 contains 155 .tgz files.\n",
      "/space/hall5/sitestore/eccc/mrd/rpnarmp/snow000/CWSK/WxCam/2019/201912 contains 155 .tgz files.\n",
      "/space/hall5/sitestore/eccc/mrd/rpnarmp/snow000/CWSK/WxCam/2019/201909 contains 150 .tgz files.\n",
      "/space/hall5/sitestore/eccc/mrd/rpnarmp/snow000/CWSK/WxCam/2019/201907 contains 155 .tgz files.\n",
      "/space/hall5/sitestore/eccc/mrd/rpnarmp/snow000/CWSK/WxCam/2019/201911 contains 150 .tgz files.\n",
      "/space/hall5/sitestore/eccc/mrd/rpnarmp/snow000/CWSK/WxCam/2019/201906 contains 128 .tgz files.\n",
      "/space/hall5/sitestore/eccc/mrd/rpnarmp/snow000/CWSK/WxCam/2019/201910 contains 155 .tgz files.\n",
      "/space/hall5/sitestore/eccc/mrd/rpnarmp/snow000/CWSK/WxCam/2019/201905 contains 155 .tgz files.\n",
      "/space/hall5/sitestore/eccc/mrd/rpnarmp/snow000/CWSK/WxCam/2016/201606 contains 45 .tgz files.\n",
      "/space/hall5/sitestore/eccc/mrd/rpnarmp/snow000/CWSK/WxCam/2016/201609 contains 90 .tgz files.\n",
      "/space/hall5/sitestore/eccc/mrd/rpnarmp/snow000/CWSK/WxCam/2016/201608 contains 93 .tgz files.\n",
      "/space/hall5/sitestore/eccc/mrd/rpnarmp/snow000/CWSK/WxCam/2016/201610 contains 15 .tgz files.\n",
      "/space/hall5/sitestore/eccc/mrd/rpnarmp/snow000/CWSK/WxCam/2016/201607 contains 93 .tgz files.\n",
      "/space/hall5/sitestore/eccc/mrd/rpnarmp/snow000/CWSK/WxCam/2017/201706 contains 140 .tgz files.\n",
      "/space/hall5/sitestore/eccc/mrd/rpnarmp/snow000/CWSK/WxCam/2017/201705 contains 156 .tgz files.\n",
      "/space/hall5/sitestore/eccc/mrd/rpnarmp/snow000/CWSK/WxCam/2017/201704 contains 150 .tgz files.\n",
      "/space/hall5/sitestore/eccc/mrd/rpnarmp/snow000/CWSK/WxCam/2017/201703 contains 132 .tgz files.\n",
      "/space/hall5/sitestore/eccc/mrd/rpnarmp/snow000/CWSK/WxCam/2017/201704a contains 155 .tgz files.\n",
      "/space/hall5/sitestore/eccc/mrd/rpnarmp/snow000/CWSK/WxCam/2017/201712 contains 62 .tgz files.\n",
      "/space/hall5/sitestore/eccc/mrd/rpnarmp/snow000/CWSK/WxCam/2017/201711 contains 60 .tgz files.\n",
      "/space/hall5/sitestore/eccc/mrd/rpnarmp/snow000/CWSK/WxCam/2017/201710 contains 2 .tgz files.\n",
      "/space/hall5/sitestore/eccc/mrd/rpnarmp/snow000/CWSK/WxCam/2020/202006 contains 122 .tgz files.\n",
      "/space/hall5/sitestore/eccc/mrd/rpnarmp/snow000/CWSK/WxCam/2020/202009 contains 150 .tgz files.\n",
      "/space/hall5/sitestore/eccc/mrd/rpnarmp/snow000/CWSK/WxCam/2020/202002 contains 145 .tgz files.\n",
      "/space/hall5/sitestore/eccc/mrd/rpnarmp/snow000/CWSK/WxCam/2020/202005 contains 155 .tgz files.\n",
      "/space/hall5/sitestore/eccc/mrd/rpnarmp/snow000/CWSK/WxCam/2020/202012 contains 155 .tgz files.\n",
      "/space/hall5/sitestore/eccc/mrd/rpnarmp/snow000/CWSK/WxCam/2020/202001 contains 155 .tgz files.\n",
      "/space/hall5/sitestore/eccc/mrd/rpnarmp/snow000/CWSK/WxCam/2020/202004 contains 150 .tgz files.\n",
      "/space/hall5/sitestore/eccc/mrd/rpnarmp/snow000/CWSK/WxCam/2020/202011 contains 150 .tgz files.\n",
      "/space/hall5/sitestore/eccc/mrd/rpnarmp/snow000/CWSK/WxCam/2020/202003 contains 155 .tgz files.\n",
      "/space/hall5/sitestore/eccc/mrd/rpnarmp/snow000/CWSK/WxCam/2020/202010 contains 155 .tgz files.\n",
      "/space/hall5/sitestore/eccc/mrd/rpnarmp/snow000/CWSK/WxCam/2020/202008 contains 93 .tgz files.\n",
      "/space/hall5/sitestore/eccc/mrd/rpnarmp/snow000/CWSK/WxCam/2020/202007 contains 93 .tgz files.\n",
      "/space/hall5/sitestore/eccc/mrd/rpnarmp/snow000/CWSK/WxCam/2021/202111 contains 150 .tgz files.\n",
      "/space/hall5/sitestore/eccc/mrd/rpnarmp/snow000/CWSK/WxCam/2021/202106 contains 150 .tgz files.\n",
      "/space/hall5/sitestore/eccc/mrd/rpnarmp/snow000/CWSK/WxCam/2021/202103 contains 155 .tgz files.\n",
      "/space/hall5/sitestore/eccc/mrd/rpnarmp/snow000/CWSK/WxCam/2021/202101 contains 155 .tgz files.\n",
      "/space/hall5/sitestore/eccc/mrd/rpnarmp/snow000/CWSK/WxCam/2021/202109 contains 150 .tgz files.\n",
      "/space/hall5/sitestore/eccc/mrd/rpnarmp/snow000/CWSK/WxCam/2021/202112 contains 155 .tgz files.\n",
      "/space/hall5/sitestore/eccc/mrd/rpnarmp/snow000/CWSK/WxCam/2021/202107 contains 153 .tgz files.\n",
      "/space/hall5/sitestore/eccc/mrd/rpnarmp/snow000/CWSK/WxCam/2021/202104 contains 150 .tgz files.\n",
      "/space/hall5/sitestore/eccc/mrd/rpnarmp/snow000/CWSK/WxCam/2021/202102 contains 140 .tgz files.\n",
      "/space/hall5/sitestore/eccc/mrd/rpnarmp/snow000/CWSK/WxCam/2021/202108 contains 155 .tgz files.\n",
      "/space/hall5/sitestore/eccc/mrd/rpnarmp/snow000/CWSK/WxCam/2021/202110 contains 155 .tgz files.\n",
      "/space/hall5/sitestore/eccc/mrd/rpnarmp/snow000/CWSK/WxCam/2021/202105 contains 155 .tgz files.\n",
      "/space/hall5/sitestore/eccc/mrd/rpnarmp/snow000/CWSK/WxCam/2022/202207 contains 155 .tgz files.\n",
      "/space/hall5/sitestore/eccc/mrd/rpnarmp/snow000/CWSK/WxCam/2022/202202 contains 140 .tgz files.\n",
      "/space/hall5/sitestore/eccc/mrd/rpnarmp/snow000/CWSK/WxCam/2022/202203 contains 155 .tgz files.\n",
      "/space/hall5/sitestore/eccc/mrd/rpnarmp/snow000/CWSK/WxCam/2022/202210 contains 155 .tgz files.\n",
      "/space/hall5/sitestore/eccc/mrd/rpnarmp/snow000/CWSK/WxCam/2022/202206 contains 150 .tgz files.\n",
      "/space/hall5/sitestore/eccc/mrd/rpnarmp/snow000/CWSK/WxCam/2022/202201 contains 155 .tgz files.\n",
      "/space/hall5/sitestore/eccc/mrd/rpnarmp/snow000/CWSK/WxCam/2022/202205 contains 155 .tgz files.\n",
      "/space/hall5/sitestore/eccc/mrd/rpnarmp/snow000/CWSK/WxCam/2022/202212 contains 155 .tgz files.\n",
      "/space/hall5/sitestore/eccc/mrd/rpnarmp/snow000/CWSK/WxCam/2022/202208 contains 155 .tgz files.\n",
      "/space/hall5/sitestore/eccc/mrd/rpnarmp/snow000/CWSK/WxCam/2022/202209 contains 150 .tgz files.\n",
      "/space/hall5/sitestore/eccc/mrd/rpnarmp/snow000/CWSK/WxCam/2022/202204 contains 150 .tgz files.\n",
      "/space/hall5/sitestore/eccc/mrd/rpnarmp/snow000/CWSK/WxCam/2022/202211 contains 150 .tgz files.\n",
      "/space/hall5/sitestore/eccc/mrd/rpnarmp/snow000/CWSK/WxCam/2023/202309 contains 140 .tgz files.\n",
      "/space/hall5/sitestore/eccc/mrd/rpnarmp/snow000/CWSK/WxCam/2023/202303 contains 155 .tgz files.\n",
      "/space/hall5/sitestore/eccc/mrd/rpnarmp/snow000/CWSK/WxCam/2023/202304 contains 130 .tgz files.\n",
      "/space/hall5/sitestore/eccc/mrd/rpnarmp/snow000/CWSK/WxCam/2023/202305 contains 155 .tgz files.\n",
      "/space/hall5/sitestore/eccc/mrd/rpnarmp/snow000/CWSK/WxCam/2023/202306 contains 150 .tgz files.\n",
      "/space/hall5/sitestore/eccc/mrd/rpnarmp/snow000/CWSK/WxCam/2023/202307 contains 152 .tgz files.\n",
      "/space/hall5/sitestore/eccc/mrd/rpnarmp/snow000/CWSK/WxCam/2023/202301 contains 155 .tgz files.\n",
      "/space/hall5/sitestore/eccc/mrd/rpnarmp/snow000/CWSK/WxCam/2023/202308 contains 155 .tgz files.\n",
      "/space/hall5/sitestore/eccc/mrd/rpnarmp/snow000/CWSK/WxCam/2023/202302 contains 140 .tgz files.\n",
      "/space/hall5/sitestore/eccc/mrd/rpnarmp/snow000/CWSK/WxCam/2023/202310 contains 149 .tgz files.\n",
      "/space/hall5/sitestore/eccc/mrd/rpnarmp/snow000/CWSK/WxCam/2023/202311 contains 40 .tgz files.\n",
      "==================================================\n"
     ]
    }
   ],
   "source": [
    "for directory in additional_camera_directories:\n",
    "    print(\"=\" * 50)\n",
    "    print(f\"Directory: {directory}\")\n",
    "    tgz_files_grouped = find_tgz_files_os_walk_grouped(directory)\n",
    "\n",
    "    total_num_files = 0\n",
    "    # Iterating through all the files in the found structure\n",
    "    for directory, files in tgz_files_grouped.items():\n",
    "        total_num_files += len(files)\n",
    "\n",
    "    print(f\"Found {total_num_files} .tgz files in {len(tgz_files_grouped)} directories.\")\n",
    "\n",
    "    # Iterating through all the files in the found structure\n",
    "    for directory, files in tgz_files_grouped.items():\n",
    "        print(f\"{directory} contains {len(files)} .tgz files.\")\n",
    "    print(\"=\" * 50)"
   ]
  },
  {
   "cell_type": "code",
   "execution_count": 15,
   "id": "fbfe6589-c94e-4f32-bcaf-c03e978afaa1",
   "metadata": {
    "execution": {
     "iopub.execute_input": "2024-03-21T14:20:21.541454Z",
     "iopub.status.busy": "2024-03-21T14:20:21.541148Z",
     "iopub.status.idle": "2024-03-21T14:20:21.544187Z",
     "shell.execute_reply": "2024-03-21T14:20:21.543790Z",
     "shell.execute_reply.started": "2024-03-21T14:20:21.541435Z"
    },
    "tags": []
   },
   "outputs": [],
   "source": [
    "import random\n",
    "\n",
    "def reproducible_random_sort(lst, seed=42):\n",
    "    # Set the seed for the random number generator to make the shuffle reproducible\n",
    "    random.seed(seed)\n",
    "    # Shuffle the list in place in a reproducible manner\n",
    "    random.shuffle(lst)\n",
    "    return lst"
   ]
  },
  {
   "cell_type": "code",
   "execution_count": 16,
   "id": "36a6cc13-2d61-472a-8e34-29490dac97ac",
   "metadata": {
    "execution": {
     "iopub.execute_input": "2024-03-21T14:20:23.813715Z",
     "iopub.status.busy": "2024-03-21T14:20:23.813330Z",
     "iopub.status.idle": "2024-03-21T14:20:23.815997Z",
     "shell.execute_reply": "2024-03-21T14:20:23.815611Z",
     "shell.execute_reply.started": "2024-03-21T14:20:23.813697Z"
    },
    "tags": []
   },
   "outputs": [],
   "source": [
    "sorted_directories = reproducible_random_sort(list(tgz_files_grouped.keys()))"
   ]
  },
  {
   "cell_type": "code",
   "execution_count": 18,
   "id": "48dd1568-c981-430d-85ab-2962c45f037e",
   "metadata": {
    "execution": {
     "iopub.execute_input": "2024-03-21T14:20:36.063015Z",
     "iopub.status.busy": "2024-03-21T14:20:36.062645Z",
     "iopub.status.idle": "2024-03-21T14:20:36.065159Z",
     "shell.execute_reply": "2024-03-21T14:20:36.064770Z",
     "shell.execute_reply.started": "2024-03-21T14:20:36.062996Z"
    },
    "tags": []
   },
   "outputs": [],
   "source": [
    "# Define target range for preprocessing\n",
    "output_path = \"/space/hall5/sitestore/eccc/mrd/rpnarmp/hol002/NavCan_WxCams_Sample_v4\"\n",
    "start_dir_index = 0\n",
    "end_dir_index = len(sorted_directories)"
   ]
  },
  {
   "cell_type": "code",
   "execution_count": 19,
   "id": "11486dbc-d5ac-4232-85ec-206b7afd4b22",
   "metadata": {
    "execution": {
     "iopub.execute_input": "2024-03-21T14:20:38.464922Z",
     "iopub.status.busy": "2024-03-21T14:20:38.464646Z",
     "iopub.status.idle": "2024-03-21T14:20:38.467659Z",
     "shell.execute_reply": "2024-03-21T14:20:38.467286Z",
     "shell.execute_reply.started": "2024-03-21T14:20:38.464905Z"
    },
    "tags": []
   },
   "outputs": [
    {
     "name": "stdout",
     "output_type": "stream",
     "text": [
      "Preprocessing 11369 .tgz files.\n"
     ]
    }
   ],
   "source": [
    "tgz_paths = []\n",
    "\n",
    "for directory in sorted_directories[start_dir_index:end_dir_index]:\n",
    "    tgz_paths += tgz_files_grouped[directory]\n",
    "    \n",
    "print(f\"Preprocessing {len(tgz_paths)} .tgz files.\")"
   ]
  },
  {
   "cell_type": "code",
   "execution_count": 20,
   "id": "21c502a8-37cb-4391-9022-285502c6f425",
   "metadata": {
    "execution": {
     "iopub.execute_input": "2024-03-21T14:21:05.394201Z",
     "iopub.status.busy": "2024-03-21T14:21:05.393910Z",
     "iopub.status.idle": "2024-03-21T14:21:05.404627Z",
     "shell.execute_reply": "2024-03-21T14:21:05.404216Z",
     "shell.execute_reply.started": "2024-03-21T14:21:05.394181Z"
    },
    "tags": []
   },
   "outputs": [],
   "source": [
    "import tarfile\n",
    "import os\n",
    "\n",
    "def extract_tgz_to_folder(input_path, output_path, folder_name):\n",
    "    \"\"\"\n",
    "    Extracts a .tgz file to a specified folder within the output path.\n",
    "\n",
    "    Parameters:\n",
    "    - input_path: The path to the .tgz file to be extracted.\n",
    "    - output_path: The base path where the extracted files will be saved.\n",
    "    - folder_name: The name of the folder to create at the output path for storing the extracted files.\n",
    "\n",
    "    Returns:\n",
    "    - None\n",
    "    \"\"\"\n",
    "    # Create the full output directory path with the folder name\n",
    "    full_output_path = os.path.join(output_path, folder_name)\n",
    "    \n",
    "    # Check if the .tgz file exists\n",
    "    if not os.path.exists(input_path):\n",
    "        raise FileNotFoundError(f\"The file {input_path} does not exist.\")\n",
    "    \n",
    "    # Create the full output directory (including folder name) if it does not exist\n",
    "    if not os.path.exists(full_output_path):\n",
    "        os.makedirs(full_output_path, exist_ok=True)\n",
    "    \n",
    "    # Open the .tgz file\n",
    "    with tarfile.open(input_path, \"r:gz\") as file:\n",
    "        # Extract all the contents into the full output directory\n",
    "        file.extractall(path=full_output_path)"
   ]
  },
  {
   "cell_type": "code",
   "execution_count": 22,
   "id": "d5c74162-8d3e-4b84-bacd-023f2d484c85",
   "metadata": {
    "execution": {
     "iopub.execute_input": "2024-03-21T14:21:28.987567Z",
     "iopub.status.busy": "2024-03-21T14:21:28.987282Z",
     "iopub.status.idle": "2024-03-21T14:21:28.990750Z",
     "shell.execute_reply": "2024-03-21T14:21:28.990348Z",
     "shell.execute_reply.started": "2024-03-21T14:21:28.987547Z"
    },
    "tags": []
   },
   "outputs": [],
   "source": [
    "def format_folder_name(tgz_path):\n",
    "    \"\"\"\n",
    "    Takes a string of a specific format and returns a formatted string.\n",
    "    \n",
    "    Parameters:\n",
    "    - tgz_path: A string with the format '/space/hall5/sitestore/eccc/mrd/rpnarmp/snow000/NavCan_WxCams/CYUX/2024/202401/NavCan-WxCams_CYUX-W_2024-01-29.tgz'\n",
    "    \n",
    "    Returns:\n",
    "    - A formatted string 'CYUX_2024_202401_NavCan-WxCams_CYUX-W_2024-01-29'\n",
    "    \"\"\"\n",
    "    # Split the string by '/'\n",
    "    parts = tgz_path.split('/')\n",
    "    \n",
    "    # Extract the necessary parts\n",
    "    station = parts[9]  # 'CYUX'\n",
    "    year = parts[10]     # '2024'\n",
    "    month = parts[11]    # '202401'\n",
    "    filename = parts[-1].replace('.tgz', '')  # 'NavCan-WxCams_CYUX-W_2024-01-29'\n",
    "    \n",
    "    # Construct the formatted string\n",
    "    formatted_str = f\"{station}_{year}_{month}_{filename}\"\n",
    "    \n",
    "    return formatted_str"
   ]
  },
  {
   "cell_type": "code",
   "execution_count": null,
   "id": "69dede94-f260-4c04-b84e-e21e6a3d23c6",
   "metadata": {
    "execution": {
     "iopub.execute_input": "2024-03-21T14:25:04.938608Z",
     "iopub.status.busy": "2024-03-21T14:25:04.938146Z"
    },
    "tags": []
   },
   "outputs": [
    {
     "name": "stderr",
     "output_type": "stream",
     "text": [
      "  5%|▍         | 522/11369 [01:41<1:40:51,  1.79it/s]"
     ]
    },
    {
     "name": "stdout",
     "output_type": "stream",
     "text": [
      "Compressed file ended before the end-of-stream marker was reached\n"
     ]
    },
    {
     "name": "stderr",
     "output_type": "stream",
     "text": [
      " 99%|█████████▊| 11210/11369 [50:33<00:58,  2.70it/s] "
     ]
    }
   ],
   "source": [
    "from tqdm import tqdm\n",
    "\n",
    "for tgz_path in tqdm(tgz_paths):\n",
    "    try:\n",
    "        folder_name = format_folder_name(tgz_path)\n",
    "        extract_tgz_to_folder(tgz_path, output_path, folder_name)\n",
    "    except Exception as e:\n",
    "        print(e)\n",
    "        continue"
   ]
  },
  {
   "cell_type": "code",
   "execution_count": 25,
   "id": "70eca892-45f3-4f05-a68a-09dd897a2a91",
   "metadata": {
    "execution": {
     "iopub.execute_input": "2024-03-21T18:49:13.543189Z",
     "iopub.status.busy": "2024-03-21T18:49:13.542802Z",
     "iopub.status.idle": "2024-03-21T18:49:13.546468Z",
     "shell.execute_reply": "2024-03-21T18:49:13.546042Z",
     "shell.execute_reply.started": "2024-03-21T18:49:13.543168Z"
    },
    "tags": []
   },
   "outputs": [],
   "source": [
    "import os\n",
    "\n",
    "def list_subdirectories_to_file(directory, output_file):\n",
    "    \"\"\"\n",
    "    List all subdirectories in the given directory and store their names in a .txt file.\n",
    "\n",
    "    Args:\n",
    "    directory (str): The path to the directory whose subdirectories you want to list.\n",
    "    output_file (str): The path to the output .txt file where the subdirectory names will be stored.\n",
    "    \"\"\"\n",
    "    with open(output_file, 'w') as file:\n",
    "        for item in os.listdir(directory):\n",
    "            if os.path.isdir(os.path.join(directory, item)):\n",
    "                print(item, file=file)"
   ]
  },
  {
   "cell_type": "code",
   "execution_count": 26,
   "id": "6c3e6628-3d32-4cec-8742-1255304333de",
   "metadata": {
    "execution": {
     "iopub.execute_input": "2024-03-21T18:49:42.003586Z",
     "iopub.status.busy": "2024-03-21T18:49:42.003306Z",
     "iopub.status.idle": "2024-03-21T18:49:42.006584Z",
     "shell.execute_reply": "2024-03-21T18:49:42.006222Z",
     "shell.execute_reply.started": "2024-03-21T18:49:42.003566Z"
    },
    "tags": []
   },
   "outputs": [
    {
     "data": {
      "text/plain": [
       "'/space/hall5/sitestore/eccc/mrd/rpnarmp/hol002/NavCan_WxCams_Sample_v4'"
      ]
     },
     "execution_count": 26,
     "metadata": {},
     "output_type": "execute_result"
    }
   ],
   "source": [
    "output_path"
   ]
  },
  {
   "cell_type": "code",
   "execution_count": 27,
   "id": "38b9c627-4e5a-4eb8-9f5e-56bc96bfbd5b",
   "metadata": {
    "execution": {
     "iopub.execute_input": "2024-03-21T18:50:11.695734Z",
     "iopub.status.busy": "2024-03-21T18:50:11.695256Z",
     "iopub.status.idle": "2024-03-21T18:50:11.697848Z",
     "shell.execute_reply": "2024-03-21T18:50:11.697456Z",
     "shell.execute_reply.started": "2024-03-21T18:50:11.695714Z"
    },
    "tags": []
   },
   "outputs": [],
   "source": [
    "output_file_path = \"NavCan_WxCams_Sample_v4_subdirectories.txt\""
   ]
  },
  {
   "cell_type": "code",
   "execution_count": 28,
   "id": "03523e84-14d2-42ee-8dc9-7b4fb0a14c09",
   "metadata": {
    "execution": {
     "iopub.execute_input": "2024-03-21T18:50:11.948934Z",
     "iopub.status.busy": "2024-03-21T18:50:11.948680Z",
     "iopub.status.idle": "2024-03-21T18:50:12.075315Z",
     "shell.execute_reply": "2024-03-21T18:50:12.074945Z",
     "shell.execute_reply.started": "2024-03-21T18:50:11.948917Z"
    },
    "tags": []
   },
   "outputs": [],
   "source": [
    "list_subdirectories_to_file(output_path, output_file_path)"
   ]
  }
 ],
 "metadata": {
  "kernelspec": {
   "display_name": "Python (hol002-webcam-preprocessing)",
   "language": "python",
   "name": "hol002-webcam-preprocessing"
  },
  "language_info": {
   "codemirror_mode": {
    "name": "ipython",
    "version": 3
   },
   "file_extension": ".py",
   "mimetype": "text/x-python",
   "name": "python",
   "nbconvert_exporter": "python",
   "pygments_lexer": "ipython3",
   "version": "3.10.13"
  }
 },
 "nbformat": 4,
 "nbformat_minor": 5
}
