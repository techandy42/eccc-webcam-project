{
 "cells": [
  {
   "cell_type": "raw",
   "id": "681e4827-0a52-449c-9d19-456b89f13f46",
   "metadata": {},
   "source": [
    "Singularity> pwd\n",
    "/space/hall5/sitestore/eccc/mrd/rpnarmp/hol002/NavCan_WxCams_Sample_v3/reduced_class_with_ice_images\n",
    "Singularity> find ./MISSING -maxdepth 1 -type f | wc -l\n",
    "96411\n",
    "Singularity> find ./RAIN_ONLY -maxdepth 1 -type f | wc -l\n",
    "11575\n",
    "Singularity> find ./SNOW_ONLY -maxdepth 1 -type f | wc -l\n",
    "23465\n",
    "Singularity> find ./ICE -maxdepth 1 -type f | wc -l\n",
    "91"
   ]
  },
  {
   "cell_type": "code",
   "execution_count": 9,
   "id": "cde3ffda-e1bd-4e1a-aaeb-7b1ce100307a",
   "metadata": {
    "execution": {
     "iopub.execute_input": "2024-03-20T20:27:04.512846Z",
     "iopub.status.busy": "2024-03-20T20:27:04.512424Z",
     "iopub.status.idle": "2024-03-20T20:27:04.516148Z",
     "shell.execute_reply": "2024-03-20T20:27:04.515760Z",
     "shell.execute_reply.started": "2024-03-20T20:27:04.512814Z"
    },
    "tags": []
   },
   "outputs": [],
   "source": [
    "import os\n",
    "from typing import List\n",
    "\n",
    "def create_class_directories(parent_dir_path: str, class_names: List[str]):\n",
    "    # Check if the parent directory exists, if not, create it\n",
    "    if not os.path.exists(parent_dir_path):\n",
    "        os.makedirs(parent_dir_path)\n",
    "\n",
    "    # Iterate through the list of class names and create each as a subdirectory\n",
    "    for class_name in class_names:\n",
    "        subdirectory_path = os.path.join(parent_dir_path, class_name)\n",
    "        if not os.path.exists(subdirectory_path):\n",
    "            os.makedirs(subdirectory_path)\n",
    "            print(f\"Created subdirectory: {subdirectory_path}\")\n",
    "        else:\n",
    "            print(f\"Subdirectory already exists: {subdirectory_path}\")"
   ]
  },
  {
   "cell_type": "code",
   "execution_count": 10,
   "id": "40be8af9-5941-478d-acda-94cdc79d8137",
   "metadata": {
    "execution": {
     "iopub.execute_input": "2024-03-20T20:27:05.611695Z",
     "iopub.status.busy": "2024-03-20T20:27:05.611367Z",
     "iopub.status.idle": "2024-03-20T20:27:05.614945Z",
     "shell.execute_reply": "2024-03-20T20:27:05.614557Z",
     "shell.execute_reply.started": "2024-03-20T20:27:05.611667Z"
    },
    "tags": []
   },
   "outputs": [
    {
     "name": "stdout",
     "output_type": "stream",
     "text": [
      "Created subdirectory: /space/hall5/sitestore/eccc/mrd/rpnarmp/hol002/NavCan_WxCams_Sample_v3/reduced_class_with_ice_train_images/MISSING\n",
      "Created subdirectory: /space/hall5/sitestore/eccc/mrd/rpnarmp/hol002/NavCan_WxCams_Sample_v3/reduced_class_with_ice_train_images/RAIN_ONLY\n",
      "Created subdirectory: /space/hall5/sitestore/eccc/mrd/rpnarmp/hol002/NavCan_WxCams_Sample_v3/reduced_class_with_ice_train_images/SNOW_ONLY\n",
      "Created subdirectory: /space/hall5/sitestore/eccc/mrd/rpnarmp/hol002/NavCan_WxCams_Sample_v3/reduced_class_with_ice_train_images/ICE\n"
     ]
    }
   ],
   "source": [
    "parent_dir_path = '/space/hall5/sitestore/eccc/mrd/rpnarmp/hol002/NavCan_WxCams_Sample_v3/reduced_class_with_ice_train_images'\n",
    "class_names = ['MISSING', 'RAIN_ONLY', 'SNOW_ONLY', 'ICE']\n",
    "create_class_directories(parent_dir_path, class_names)"
   ]
  },
  {
   "cell_type": "code",
   "execution_count": 11,
   "id": "1ba23807-d676-4b8d-850c-ecb550827ddc",
   "metadata": {
    "execution": {
     "iopub.execute_input": "2024-03-20T20:27:07.034719Z",
     "iopub.status.busy": "2024-03-20T20:27:07.034402Z",
     "iopub.status.idle": "2024-03-20T20:27:07.039151Z",
     "shell.execute_reply": "2024-03-20T20:27:07.038778Z",
     "shell.execute_reply.started": "2024-03-20T20:27:07.034699Z"
    },
    "tags": []
   },
   "outputs": [
    {
     "name": "stdout",
     "output_type": "stream",
     "text": [
      "Created subdirectory: /space/hall5/sitestore/eccc/mrd/rpnarmp/hol002/NavCan_WxCams_Sample_v3/reduced_class_with_ice_test_images/MISSING\n",
      "Created subdirectory: /space/hall5/sitestore/eccc/mrd/rpnarmp/hol002/NavCan_WxCams_Sample_v3/reduced_class_with_ice_test_images/RAIN_ONLY\n",
      "Created subdirectory: /space/hall5/sitestore/eccc/mrd/rpnarmp/hol002/NavCan_WxCams_Sample_v3/reduced_class_with_ice_test_images/SNOW_ONLY\n",
      "Created subdirectory: /space/hall5/sitestore/eccc/mrd/rpnarmp/hol002/NavCan_WxCams_Sample_v3/reduced_class_with_ice_test_images/ICE\n"
     ]
    }
   ],
   "source": [
    "parent_dir_path = '/space/hall5/sitestore/eccc/mrd/rpnarmp/hol002/NavCan_WxCams_Sample_v3/reduced_class_with_ice_test_images'\n",
    "class_names = ['MISSING', 'RAIN_ONLY', 'SNOW_ONLY', 'ICE']\n",
    "create_class_directories(parent_dir_path, class_names)"
   ]
  },
  {
   "cell_type": "code",
   "execution_count": 12,
   "id": "a88bbe7d-9463-4504-b1a5-a98594d89e5b",
   "metadata": {
    "execution": {
     "iopub.execute_input": "2024-03-20T20:27:07.418195Z",
     "iopub.status.busy": "2024-03-20T20:27:07.417945Z",
     "iopub.status.idle": "2024-03-20T20:27:07.421253Z",
     "shell.execute_reply": "2024-03-20T20:27:07.420878Z",
     "shell.execute_reply.started": "2024-03-20T20:27:07.418176Z"
    },
    "tags": []
   },
   "outputs": [
    {
     "name": "stdout",
     "output_type": "stream",
     "text": [
      "Created subdirectory: /space/hall5/sitestore/eccc/mrd/rpnarmp/hol002/NavCan_WxCams_Sample_v3/reduced_class_with_ice_val_images/MISSING\n",
      "Created subdirectory: /space/hall5/sitestore/eccc/mrd/rpnarmp/hol002/NavCan_WxCams_Sample_v3/reduced_class_with_ice_val_images/RAIN_ONLY\n",
      "Created subdirectory: /space/hall5/sitestore/eccc/mrd/rpnarmp/hol002/NavCan_WxCams_Sample_v3/reduced_class_with_ice_val_images/SNOW_ONLY\n",
      "Created subdirectory: /space/hall5/sitestore/eccc/mrd/rpnarmp/hol002/NavCan_WxCams_Sample_v3/reduced_class_with_ice_val_images/ICE\n"
     ]
    }
   ],
   "source": [
    "parent_dir_path = '/space/hall5/sitestore/eccc/mrd/rpnarmp/hol002/NavCan_WxCams_Sample_v3/reduced_class_with_ice_val_images'\n",
    "class_names = ['MISSING', 'RAIN_ONLY', 'SNOW_ONLY', 'ICE']\n",
    "create_class_directories(parent_dir_path, class_names)"
   ]
  },
  {
   "cell_type": "code",
   "execution_count": 13,
   "id": "df2a279f-98b5-4541-ad56-cea5dd4f71a3",
   "metadata": {
    "execution": {
     "iopub.execute_input": "2024-03-20T20:27:11.338835Z",
     "iopub.status.busy": "2024-03-20T20:27:11.338539Z",
     "iopub.status.idle": "2024-03-20T20:27:11.342436Z",
     "shell.execute_reply": "2024-03-20T20:27:11.342053Z",
     "shell.execute_reply.started": "2024-03-20T20:27:11.338806Z"
    },
    "tags": []
   },
   "outputs": [],
   "source": [
    "import os\n",
    "import shutil\n",
    "import random\n",
    "\n",
    "def move_random_files(src_dir_path, tgt_dir_path, num_files):\n",
    "    \"\"\"\n",
    "    Moves a specified number of files from the source directory to the target directory randomly.\n",
    "    \n",
    "    Parameters:\n",
    "    src_dir_path (str): Path to the source directory.\n",
    "    tgt_dir_path (str): Path to the target directory.\n",
    "    num_files (int): Number of files to move.\n",
    "    \"\"\"\n",
    "    # List all files in the source directory\n",
    "    files = [file for file in os.listdir(src_dir_path) if os.path.isfile(os.path.join(src_dir_path, file))]\n",
    "    \n",
    "    # Check if there are enough files to move\n",
    "    if num_files > len(files):\n",
    "        raise ValueError(f\"Requested {num_files} files, but only {len(files)} available.\")\n",
    "    \n",
    "    # Randomly select files to move\n",
    "    selected_files = random.sample(files, num_files)\n",
    "    \n",
    "    # Move the selected files\n",
    "    for file in selected_files:\n",
    "        src_file_path = os.path.join(src_dir_path, file)\n",
    "        tgt_file_path = os.path.join(tgt_dir_path, file)\n",
    "        \n",
    "        # Move file from source to target directory\n",
    "        shutil.move(src_file_path, tgt_file_path)"
   ]
  },
  {
   "cell_type": "code",
   "execution_count": 14,
   "id": "5fcdf9fd-8c50-4fbf-b32c-812d3b6e29a9",
   "metadata": {
    "execution": {
     "iopub.execute_input": "2024-03-20T20:27:55.867846Z",
     "iopub.status.busy": "2024-03-20T20:27:55.867557Z",
     "iopub.status.idle": "2024-03-20T20:27:59.531918Z",
     "shell.execute_reply": "2024-03-20T20:27:59.531341Z",
     "shell.execute_reply.started": "2024-03-20T20:27:55.867826Z"
    },
    "tags": []
   },
   "outputs": [
    {
     "name": "stderr",
     "output_type": "stream",
     "text": [
      "100%|██████████| 4/4 [00:03<00:00,  1.09it/s]\n"
     ]
    }
   ],
   "source": [
    "from tqdm import tqdm\n",
    "\n",
    "class_names = ['MISSING', 'RAIN_ONLY', 'SNOW_ONLY', 'ICE']\n",
    "\n",
    "for category in tqdm(class_names):\n",
    "    orig_dir_path = f\"/space/hall5/sitestore/eccc/mrd/rpnarmp/hol002/NavCan_WxCams_Sample_v3/reduced_class_with_ice_images/{category}\"\n",
    "    test_dir_path = f\"/space/hall5/sitestore/eccc/mrd/rpnarmp/hol002/NavCan_WxCams_Sample_v3/reduced_class_with_ice_test_images/{category}\"\n",
    "    val_dir_path = f\"/space/hall5/sitestore/eccc/mrd/rpnarmp/hol002/NavCan_WxCams_Sample_v3/reduced_class_with_ice_val_images/{category}\"\n",
    "    \n",
    "    category_to_num_files = {\n",
    "        \"MISSING\": 1000,\n",
    "        \"RAIN_ONLY\": 1000,\n",
    "        \"SNOW_ONLY\": 1000,\n",
    "        \"ICE\": 10,\n",
    "    }\n",
    "    \n",
    "    move_random_files(orig_dir_path, test_dir_path, category_to_num_files[category])\n",
    "    move_random_files(orig_dir_path, val_dir_path, category_to_num_files[category])"
   ]
  },
  {
   "cell_type": "code",
   "execution_count": 15,
   "id": "6ec4251d-64f0-4fee-ba69-c5962656d9ba",
   "metadata": {
    "execution": {
     "iopub.execute_input": "2024-03-20T20:28:08.923391Z",
     "iopub.status.busy": "2024-03-20T20:28:08.923076Z",
     "iopub.status.idle": "2024-03-20T20:28:08.928455Z",
     "shell.execute_reply": "2024-03-20T20:28:08.928022Z",
     "shell.execute_reply.started": "2024-03-20T20:28:08.923369Z"
    },
    "tags": []
   },
   "outputs": [],
   "source": [
    "import os\n",
    "import shutil\n",
    "from math import ceil\n",
    "\n",
    "def distribute_files(src_dir_path, tgt_dir_path, limit):\n",
    "    # List all files in the source directory\n",
    "    files = [f for f in os.listdir(src_dir_path) if os.path.isfile(os.path.join(src_dir_path, f))]\n",
    "    \n",
    "    num_files = len(files)\n",
    "    \n",
    "    # Calculate how many times each file should be copied\n",
    "    if num_files >= limit:\n",
    "        files_to_copy = files[:limit]\n",
    "        for file in files_to_copy:\n",
    "            src_file_path = os.path.join(src_dir_path, file)\n",
    "            tgt_file_path = os.path.join(tgt_dir_path, file)\n",
    "            shutil.copy(src_file_path, tgt_file_path)\n",
    "    else:\n",
    "        # Calculate how many times to copy each file to reach a total of 1000 files\n",
    "        copies_per_file = limit // num_files\n",
    "        additional_copies = limit % num_files\n",
    "\n",
    "        for i, file in enumerate(files):\n",
    "            for j in range(copies_per_file + (1 if i < additional_copies else 0)):\n",
    "                src_file_path = os.path.join(src_dir_path, file)\n",
    "                tgt_file_path = os.path.join(tgt_dir_path, f\"{i}_{j}_{file}\")\n",
    "                shutil.copy(src_file_path, tgt_file_path)"
   ]
  },
  {
   "cell_type": "code",
   "execution_count": 17,
   "id": "2200019c-d174-45ec-9fd0-b5ee2e428c88",
   "metadata": {
    "execution": {
     "iopub.execute_input": "2024-03-20T20:29:26.857543Z",
     "iopub.status.busy": "2024-03-20T20:29:26.857226Z",
     "iopub.status.idle": "2024-03-20T20:29:33.012233Z",
     "shell.execute_reply": "2024-03-20T20:29:33.011676Z",
     "shell.execute_reply.started": "2024-03-20T20:29:26.857521Z"
    },
    "tags": []
   },
   "outputs": [
    {
     "name": "stderr",
     "output_type": "stream",
     "text": [
      "100%|██████████| 4/4 [00:06<00:00,  1.54s/it]\n"
     ]
    }
   ],
   "source": [
    "from tqdm import tqdm\n",
    "\n",
    "class_names = ['MISSING', 'RAIN_ONLY', 'SNOW_ONLY', 'ICE']\n",
    "\n",
    "for category in tqdm(class_names):\n",
    "    src_dir_path = f\"/space/hall5/sitestore/eccc/mrd/rpnarmp/hol002/NavCan_WxCams_Sample_v3/reduced_class_with_ice_images/{category}\"\n",
    "    tgt_dir_path = f\"/space/hall5/sitestore/eccc/mrd/rpnarmp/hol002/NavCan_WxCams_Sample_v3/reduced_class_with_ice_train_images/{category}\"\n",
    "    distribute_files(src_dir_path, tgt_dir_path, 1000)"
   ]
  },
  {
   "cell_type": "code",
   "execution_count": 18,
   "id": "6228009a-9c14-462b-b526-775e93fc4bea",
   "metadata": {
    "execution": {
     "iopub.execute_input": "2024-03-20T20:29:52.455400Z",
     "iopub.status.busy": "2024-03-20T20:29:52.455139Z",
     "iopub.status.idle": "2024-03-20T20:29:52.458227Z",
     "shell.execute_reply": "2024-03-20T20:29:52.457835Z",
     "shell.execute_reply.started": "2024-03-20T20:29:52.455379Z"
    },
    "tags": []
   },
   "outputs": [],
   "source": [
    "import shutil\n",
    "\n",
    "def zip_directory(source_dir, output_filename):\n",
    "    shutil.make_archive(output_filename, 'zip', source_dir)"
   ]
  },
  {
   "cell_type": "code",
   "execution_count": 19,
   "id": "60ea1254-5149-4de1-8dc1-6f9cdea0e6bd",
   "metadata": {
    "execution": {
     "iopub.execute_input": "2024-03-20T20:29:52.891089Z",
     "iopub.status.busy": "2024-03-20T20:29:52.890820Z",
     "iopub.status.idle": "2024-03-20T20:29:59.637137Z",
     "shell.execute_reply": "2024-03-20T20:29:59.636720Z",
     "shell.execute_reply.started": "2024-03-20T20:29:52.891069Z"
    },
    "tags": []
   },
   "outputs": [
    {
     "name": "stderr",
     "output_type": "stream",
     "text": [
      "100%|██████████| 3/3 [00:06<00:00,  2.25s/it]\n"
     ]
    }
   ],
   "source": [
    "from tqdm import tqdm\n",
    "\n",
    "dir_names = ['reduced_class_with_ice_train_images', 'reduced_class_with_ice_test_images', 'reduced_class_with_ice_val_images'] \n",
    "\n",
    "for dir_name in tqdm(dir_names):\n",
    "    source_dir = f\"/space/hall5/sitestore/eccc/mrd/rpnarmp/hol002/NavCan_WxCams_Sample_v3/{dir_name}\"\n",
    "    zip_directory(source_dir, dir_name)"
   ]
  }
 ],
 "metadata": {
  "kernelspec": {
   "display_name": "Python 3 (ipykernel)",
   "language": "python",
   "name": "python3"
  },
  "language_info": {
   "codemirror_mode": {
    "name": "ipython",
    "version": 3
   },
   "file_extension": ".py",
   "mimetype": "text/x-python",
   "name": "python",
   "nbconvert_exporter": "python",
   "pygments_lexer": "ipython3",
   "version": "3.10.12"
  }
 },
 "nbformat": 4,
 "nbformat_minor": 5
}
