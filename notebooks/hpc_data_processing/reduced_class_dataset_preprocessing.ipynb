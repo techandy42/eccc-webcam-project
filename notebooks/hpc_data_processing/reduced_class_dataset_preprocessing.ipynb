{
 "cells": [
  {
   "cell_type": "raw",
   "id": "681e4827-0a52-449c-9d19-456b89f13f46",
   "metadata": {},
   "source": [
    "Singularity> pwd\n",
    "/space/hall5/sitestore/eccc/mrd/rpnarmp/hol002/NavCan_WxCams_Sample_v3/reduced_class_images\n",
    "Singularity> find ./MISSING -maxdepth 1 -type f | wc -l\n",
    "96411\n",
    "Singularity> find ./RAIN_ONLY -maxdepth 1 -type f | wc -l\n",
    "11575\n",
    "Singularity> find ./SNOW_ONLY -maxdepth 1 -type f | wc -l\n",
    "23465"
   ]
  },
  {
   "cell_type": "code",
   "execution_count": 2,
   "id": "cde3ffda-e1bd-4e1a-aaeb-7b1ce100307a",
   "metadata": {
    "execution": {
     "iopub.execute_input": "2024-03-20T19:05:30.913581Z",
     "iopub.status.busy": "2024-03-20T19:05:30.913156Z",
     "iopub.status.idle": "2024-03-20T19:05:30.917328Z",
     "shell.execute_reply": "2024-03-20T19:05:30.916928Z",
     "shell.execute_reply.started": "2024-03-20T19:05:30.913539Z"
    },
    "tags": []
   },
   "outputs": [],
   "source": [
    "import os\n",
    "from typing import List\n",
    "\n",
    "def create_class_directories(parent_dir_path: str, class_names: List[str]):\n",
    "    # Check if the parent directory exists, if not, create it\n",
    "    if not os.path.exists(parent_dir_path):\n",
    "        os.makedirs(parent_dir_path)\n",
    "\n",
    "    # Iterate through the list of class names and create each as a subdirectory\n",
    "    for class_name in class_names:\n",
    "        subdirectory_path = os.path.join(parent_dir_path, class_name)\n",
    "        if not os.path.exists(subdirectory_path):\n",
    "            os.makedirs(subdirectory_path)\n",
    "            print(f\"Created subdirectory: {subdirectory_path}\")\n",
    "        else:\n",
    "            print(f\"Subdirectory already exists: {subdirectory_path}\")"
   ]
  },
  {
   "cell_type": "code",
   "execution_count": 13,
   "id": "40be8af9-5941-478d-acda-94cdc79d8137",
   "metadata": {
    "execution": {
     "iopub.execute_input": "2024-03-20T19:40:37.228942Z",
     "iopub.status.busy": "2024-03-20T19:40:37.228360Z",
     "iopub.status.idle": "2024-03-20T19:40:37.233694Z",
     "shell.execute_reply": "2024-03-20T19:40:37.233252Z",
     "shell.execute_reply.started": "2024-03-20T19:40:37.228910Z"
    },
    "tags": []
   },
   "outputs": [
    {
     "name": "stdout",
     "output_type": "stream",
     "text": [
      "Created subdirectory: /space/hall5/sitestore/eccc/mrd/rpnarmp/hol002/NavCan_WxCams_Sample_v3/reduced_class_train_images/MISSING\n",
      "Created subdirectory: /space/hall5/sitestore/eccc/mrd/rpnarmp/hol002/NavCan_WxCams_Sample_v3/reduced_class_train_images/RAIN_ONLY\n",
      "Created subdirectory: /space/hall5/sitestore/eccc/mrd/rpnarmp/hol002/NavCan_WxCams_Sample_v3/reduced_class_train_images/SNOW_ONLY\n"
     ]
    }
   ],
   "source": [
    "parent_dir_path = '/space/hall5/sitestore/eccc/mrd/rpnarmp/hol002/NavCan_WxCams_Sample_v3/reduced_class_train_images'\n",
    "class_names = ['MISSING', 'RAIN_ONLY', 'SNOW_ONLY']\n",
    "create_class_directories(parent_dir_path, class_names)"
   ]
  },
  {
   "cell_type": "code",
   "execution_count": 4,
   "id": "1ba23807-d676-4b8d-850c-ecb550827ddc",
   "metadata": {
    "execution": {
     "iopub.execute_input": "2024-03-20T19:05:40.425453Z",
     "iopub.status.busy": "2024-03-20T19:05:40.425067Z",
     "iopub.status.idle": "2024-03-20T19:05:40.428792Z",
     "shell.execute_reply": "2024-03-20T19:05:40.428413Z",
     "shell.execute_reply.started": "2024-03-20T19:05:40.425432Z"
    },
    "tags": []
   },
   "outputs": [
    {
     "name": "stdout",
     "output_type": "stream",
     "text": [
      "Created subdirectory: /space/hall5/sitestore/eccc/mrd/rpnarmp/hol002/NavCan_WxCams_Sample_v3/reduced_class_test_images/MISSING\n",
      "Created subdirectory: /space/hall5/sitestore/eccc/mrd/rpnarmp/hol002/NavCan_WxCams_Sample_v3/reduced_class_test_images/RAIN_ONLY\n",
      "Created subdirectory: /space/hall5/sitestore/eccc/mrd/rpnarmp/hol002/NavCan_WxCams_Sample_v3/reduced_class_test_images/SNOW_ONLY\n"
     ]
    }
   ],
   "source": [
    "parent_dir_path = '/space/hall5/sitestore/eccc/mrd/rpnarmp/hol002/NavCan_WxCams_Sample_v3/reduced_class_test_images'\n",
    "class_names = ['MISSING', 'RAIN_ONLY', 'SNOW_ONLY']\n",
    "create_class_directories(parent_dir_path, class_names)"
   ]
  },
  {
   "cell_type": "code",
   "execution_count": 5,
   "id": "a88bbe7d-9463-4504-b1a5-a98594d89e5b",
   "metadata": {
    "execution": {
     "iopub.execute_input": "2024-03-20T19:07:27.990532Z",
     "iopub.status.busy": "2024-03-20T19:07:27.990252Z",
     "iopub.status.idle": "2024-03-20T19:07:27.993705Z",
     "shell.execute_reply": "2024-03-20T19:07:27.993319Z",
     "shell.execute_reply.started": "2024-03-20T19:07:27.990512Z"
    },
    "tags": []
   },
   "outputs": [
    {
     "name": "stdout",
     "output_type": "stream",
     "text": [
      "Created subdirectory: /space/hall5/sitestore/eccc/mrd/rpnarmp/hol002/NavCan_WxCams_Sample_v3/reduced_class_val_images/MISSING\n",
      "Created subdirectory: /space/hall5/sitestore/eccc/mrd/rpnarmp/hol002/NavCan_WxCams_Sample_v3/reduced_class_val_images/RAIN_ONLY\n",
      "Created subdirectory: /space/hall5/sitestore/eccc/mrd/rpnarmp/hol002/NavCan_WxCams_Sample_v3/reduced_class_val_images/SNOW_ONLY\n"
     ]
    }
   ],
   "source": [
    "parent_dir_path = '/space/hall5/sitestore/eccc/mrd/rpnarmp/hol002/NavCan_WxCams_Sample_v3/reduced_class_val_images'\n",
    "class_names = ['MISSING', 'RAIN_ONLY', 'SNOW_ONLY']\n",
    "create_class_directories(parent_dir_path, class_names)"
   ]
  },
  {
   "cell_type": "code",
   "execution_count": 6,
   "id": "df2a279f-98b5-4541-ad56-cea5dd4f71a3",
   "metadata": {
    "execution": {
     "iopub.execute_input": "2024-03-20T19:07:44.557641Z",
     "iopub.status.busy": "2024-03-20T19:07:44.557340Z",
     "iopub.status.idle": "2024-03-20T19:07:44.561620Z",
     "shell.execute_reply": "2024-03-20T19:07:44.561226Z",
     "shell.execute_reply.started": "2024-03-20T19:07:44.557621Z"
    },
    "tags": []
   },
   "outputs": [],
   "source": [
    "import os\n",
    "import shutil\n",
    "import random\n",
    "\n",
    "def move_random_files(src_dir_path, tgt_dir_path, num_files):\n",
    "    \"\"\"\n",
    "    Moves a specified number of files from the source directory to the target directory randomly.\n",
    "    \n",
    "    Parameters:\n",
    "    src_dir_path (str): Path to the source directory.\n",
    "    tgt_dir_path (str): Path to the target directory.\n",
    "    num_files (int): Number of files to move.\n",
    "    \"\"\"\n",
    "    # List all files in the source directory\n",
    "    files = [file for file in os.listdir(src_dir_path) if os.path.isfile(os.path.join(src_dir_path, file))]\n",
    "    \n",
    "    # Check if there are enough files to move\n",
    "    if num_files > len(files):\n",
    "        raise ValueError(f\"Requested {num_files} files, but only {len(files)} available.\")\n",
    "    \n",
    "    # Randomly select files to move\n",
    "    selected_files = random.sample(files, num_files)\n",
    "    \n",
    "    # Move the selected files\n",
    "    for file in selected_files:\n",
    "        src_file_path = os.path.join(src_dir_path, file)\n",
    "        tgt_file_path = os.path.join(tgt_dir_path, file)\n",
    "        \n",
    "        # Move file from source to target directory\n",
    "        shutil.move(src_file_path, tgt_file_path)"
   ]
  },
  {
   "cell_type": "code",
   "execution_count": 7,
   "id": "5fcdf9fd-8c50-4fbf-b32c-812d3b6e29a9",
   "metadata": {
    "execution": {
     "iopub.execute_input": "2024-03-20T19:10:15.551254Z",
     "iopub.status.busy": "2024-03-20T19:10:15.550958Z",
     "iopub.status.idle": "2024-03-20T19:10:19.064855Z",
     "shell.execute_reply": "2024-03-20T19:10:19.064280Z",
     "shell.execute_reply.started": "2024-03-20T19:10:15.551233Z"
    },
    "tags": []
   },
   "outputs": [
    {
     "name": "stderr",
     "output_type": "stream",
     "text": [
      "100%|██████████| 3/3 [00:03<00:00,  1.17s/it]\n"
     ]
    }
   ],
   "source": [
    "from tqdm import tqdm\n",
    "\n",
    "class_names = ['MISSING', 'RAIN_ONLY', 'SNOW_ONLY']\n",
    "\n",
    "for category in tqdm(class_names):\n",
    "    orig_dir_path = f\"/space/hall5/sitestore/eccc/mrd/rpnarmp/hol002/NavCan_WxCams_Sample_v3/reduced_class_images/{category}\"\n",
    "    test_dir_path = f\"/space/hall5/sitestore/eccc/mrd/rpnarmp/hol002/NavCan_WxCams_Sample_v3/reduced_class_test_images/{category}\"\n",
    "    val_dir_path = f\"/space/hall5/sitestore/eccc/mrd/rpnarmp/hol002/NavCan_WxCams_Sample_v3/reduced_class_val_images/{category}\"\n",
    "    \n",
    "    category_to_num_files = {\n",
    "        \"MISSING\": 1000,\n",
    "        \"RAIN_ONLY\": 1000,\n",
    "        \"SNOW_ONLY\": 1000,\n",
    "    }\n",
    "    \n",
    "    move_random_files(orig_dir_path, test_dir_path, category_to_num_files[category])\n",
    "    move_random_files(orig_dir_path, val_dir_path, category_to_num_files[category])"
   ]
  },
  {
   "cell_type": "code",
   "execution_count": 14,
   "id": "6ec4251d-64f0-4fee-ba69-c5962656d9ba",
   "metadata": {
    "execution": {
     "iopub.execute_input": "2024-03-20T19:40:50.719474Z",
     "iopub.status.busy": "2024-03-20T19:40:50.719201Z",
     "iopub.status.idle": "2024-03-20T19:40:50.724170Z",
     "shell.execute_reply": "2024-03-20T19:40:50.723780Z",
     "shell.execute_reply.started": "2024-03-20T19:40:50.719446Z"
    },
    "tags": []
   },
   "outputs": [],
   "source": [
    "import os\n",
    "import shutil\n",
    "from math import ceil\n",
    "\n",
    "def distribute_files(src_dir_path, tgt_dir_path, limit):\n",
    "    # List all files in the source directory\n",
    "    files = [f for f in os.listdir(src_dir_path) if os.path.isfile(os.path.join(src_dir_path, f))]\n",
    "    \n",
    "    num_files = len(files)\n",
    "    \n",
    "    # Calculate how many times each file should be copied\n",
    "    if num_files >= limit:\n",
    "        files_to_copy = files[:limit]\n",
    "        for file in files_to_copy:\n",
    "            src_file_path = os.path.join(src_dir_path, file)\n",
    "            tgt_file_path = os.path.join(tgt_dir_path, file)\n",
    "            shutil.copy(src_file_path, tgt_file_path)\n",
    "    else:\n",
    "        # Calculate how many times to copy each file to reach a total of 1000 files\n",
    "        copies_per_file = limit // num_files\n",
    "        additional_copies = limit % num_files\n",
    "\n",
    "        for i, file in enumerate(files):\n",
    "            for j in range(copies_per_file + (1 if i < additional_copies else 0)):\n",
    "                src_file_path = os.path.join(src_dir_path, file)\n",
    "                tgt_file_path = os.path.join(tgt_dir_path, f\"{i}_{j}_{file}\")\n",
    "                shutil.copy(src_file_path, tgt_file_path)"
   ]
  },
  {
   "cell_type": "code",
   "execution_count": 16,
   "id": "9a042bdf-aba2-4c36-a30d-12c9e8090716",
   "metadata": {
    "execution": {
     "iopub.execute_input": "2024-03-20T19:42:52.225069Z",
     "iopub.status.busy": "2024-03-20T19:42:52.224581Z",
     "iopub.status.idle": "2024-03-20T19:42:52.407068Z",
     "shell.execute_reply": "2024-03-20T19:42:52.406569Z",
     "shell.execute_reply.started": "2024-03-20T19:42:52.225046Z"
    },
    "tags": []
   },
   "outputs": [
    {
     "name": "stdout",
     "output_type": "stream",
     "text": [
      "94411\n"
     ]
    }
   ],
   "source": [
    "!find /space/hall5/sitestore/eccc/mrd/rpnarmp/hol002/NavCan_WxCams_Sample_v3/reduced_class_images/MISSING -maxdepth 1 -type f | wc -l"
   ]
  },
  {
   "cell_type": "code",
   "execution_count": 17,
   "id": "2200019c-d174-45ec-9fd0-b5ee2e428c88",
   "metadata": {
    "execution": {
     "iopub.execute_input": "2024-03-20T19:43:12.274142Z",
     "iopub.status.busy": "2024-03-20T19:43:12.273840Z",
     "iopub.status.idle": "2024-03-20T19:47:59.252965Z",
     "shell.execute_reply": "2024-03-20T19:47:59.252389Z",
     "shell.execute_reply.started": "2024-03-20T19:43:12.274120Z"
    },
    "tags": []
   },
   "outputs": [
    {
     "name": "stderr",
     "output_type": "stream",
     "text": [
      "100%|██████████| 3/3 [04:46<00:00, 95.66s/it] \n"
     ]
    }
   ],
   "source": [
    "from tqdm import tqdm\n",
    "\n",
    "class_names = ['MISSING', 'RAIN_ONLY', 'SNOW_ONLY']\n",
    "\n",
    "for category in tqdm(class_names):\n",
    "    src_dir_path = f\"/space/hall5/sitestore/eccc/mrd/rpnarmp/hol002/NavCan_WxCams_Sample_v3/reduced_class_images/{category}\"\n",
    "    tgt_dir_path = f\"/space/hall5/sitestore/eccc/mrd/rpnarmp/hol002/NavCan_WxCams_Sample_v3/reduced_class_train_images/{category}\"\n",
    "    distribute_files(src_dir_path, tgt_dir_path, 94411)"
   ]
  },
  {
   "cell_type": "code",
   "execution_count": 18,
   "id": "6228009a-9c14-462b-b526-775e93fc4bea",
   "metadata": {
    "execution": {
     "iopub.execute_input": "2024-03-20T19:48:02.407230Z",
     "iopub.status.busy": "2024-03-20T19:48:02.406916Z",
     "iopub.status.idle": "2024-03-20T19:48:02.410181Z",
     "shell.execute_reply": "2024-03-20T19:48:02.409787Z",
     "shell.execute_reply.started": "2024-03-20T19:48:02.407210Z"
    },
    "tags": []
   },
   "outputs": [],
   "source": [
    "import shutil\n",
    "\n",
    "def zip_directory(source_dir, output_filename):\n",
    "    shutil.make_archive(output_filename, 'zip', source_dir)"
   ]
  },
  {
   "cell_type": "code",
   "execution_count": 19,
   "id": "60ea1254-5149-4de1-8dc1-6f9cdea0e6bd",
   "metadata": {
    "execution": {
     "iopub.execute_input": "2024-03-20T19:48:04.133107Z",
     "iopub.status.busy": "2024-03-20T19:48:04.132857Z",
     "iopub.status.idle": "2024-03-20T19:59:05.859656Z",
     "shell.execute_reply": "2024-03-20T19:59:05.859103Z",
     "shell.execute_reply.started": "2024-03-20T19:48:04.133088Z"
    },
    "tags": []
   },
   "outputs": [
    {
     "name": "stderr",
     "output_type": "stream",
     "text": [
      "100%|██████████| 3/3 [11:01<00:00, 220.57s/it]\n"
     ]
    }
   ],
   "source": [
    "from tqdm import tqdm\n",
    "\n",
    "dir_names = ['reduced_class_train_images', 'reduced_class_test_images', 'reduced_class_val_images'] \n",
    "\n",
    "for dir_name in tqdm(dir_names):\n",
    "    source_dir = f\"/space/hall5/sitestore/eccc/mrd/rpnarmp/hol002/NavCan_WxCams_Sample_v3/{dir_name}\"\n",
    "    zip_directory(source_dir, dir_name)"
   ]
  }
 ],
 "metadata": {
  "kernelspec": {
   "display_name": "Python 3 (ipykernel)",
   "language": "python",
   "name": "python3"
  },
  "language_info": {
   "codemirror_mode": {
    "name": "ipython",
    "version": 3
   },
   "file_extension": ".py",
   "mimetype": "text/x-python",
   "name": "python",
   "nbconvert_exporter": "python",
   "pygments_lexer": "ipython3",
   "version": "3.10.12"
  }
 },
 "nbformat": 4,
 "nbformat_minor": 5
}
